{
  "nbformat": 4,
  "nbformat_minor": 0,
  "metadata": {
    "colab": {
      "name": "Stock_price_prediction.ipynb",
      "provenance": []
    },
    "kernelspec": {
      "name": "python3",
      "display_name": "Python 3"
    },
    "language_info": {
      "name": "python"
    }
  },
  "cells": [
    {
      "cell_type": "code",
      "execution_count": 32,
      "metadata": {
        "id": "n5jBqIcje-Hb"
      },
      "outputs": [],
      "source": [
        "import pandas_datareader as pdr\n",
        "import pandas as pd\n",
        "key=\"9722c8729f9ef2886edeba557d5858e025ff81a3\""
      ]
    },
    {
      "cell_type": "code",
      "source": [
        "# df = pdr.get_data_tiingo('AAPL', api_key = 9722c8729f9ef2886edeba557d5858e025ff81a3)\n",
        "df = pdr.get_data_tiingo('AAPL', api_key= key)"
      ],
      "metadata": {
        "colab": {
          "base_uri": "https://localhost:8080/"
        },
        "id": "SCskMws4fFMq",
        "outputId": "5be858d0-4fec-4411-d71d-cdfa2221fb59"
      },
      "execution_count": 33,
      "outputs": [
        {
          "output_type": "stream",
          "name": "stderr",
          "text": [
            "/usr/local/lib/python3.7/dist-packages/pandas_datareader/tiingo.py:234: FutureWarning: In a future version of pandas all arguments of concat except for the argument 'objs' will be keyword-only\n",
            "  return pd.concat(dfs, self._concat_axis)\n"
          ]
        }
      ]
    },
    {
      "cell_type": "code",
      "source": [
        "df.to_csv('AAPL.csv')"
      ],
      "metadata": {
        "id": "4lDGYXjn5POy"
      },
      "execution_count": 34,
      "outputs": []
    },
    {
      "cell_type": "code",
      "source": [
        "df = pd.read_csv('AAPL.csv')"
      ],
      "metadata": {
        "id": "hw8vDE3h6JkY"
      },
      "execution_count": 35,
      "outputs": []
    },
    {
      "cell_type": "code",
      "source": [
        "df.head()"
      ],
      "metadata": {
        "colab": {
          "base_uri": "https://localhost:8080/",
          "height": 337
        },
        "id": "2J8ScFeumzmp",
        "outputId": "a43d596e-9865-4cf2-ed96-9ea17805361f"
      },
      "execution_count": 36,
      "outputs": [
        {
          "output_type": "execute_result",
          "data": {
            "text/plain": [
              "  symbol                       date   close      high     low    open  \\\n",
              "0   AAPL  2017-08-10 00:00:00+00:00  155.32  160.0000  154.63  159.90   \n",
              "1   AAPL  2017-08-11 00:00:00+00:00  157.48  158.5728  156.07  156.60   \n",
              "2   AAPL  2017-08-14 00:00:00+00:00  159.85  160.2100  158.75  159.32   \n",
              "3   AAPL  2017-08-15 00:00:00+00:00  161.60  162.1950  160.14  160.66   \n",
              "4   AAPL  2017-08-16 00:00:00+00:00  160.95  162.5100  160.15  161.94   \n",
              "\n",
              "     volume   adjClose    adjHigh     adjLow    adjOpen  adjVolume  divCash  \\\n",
              "0  39081017  36.850189  37.960535  36.686484  37.936810  156324068     0.63   \n",
              "1  25943187  37.362656  37.621927  37.028129  37.153874  103772748     0.00   \n",
              "2  21754810  37.924947  38.010358  37.663968  37.799203   87019240     0.00   \n",
              "3  27936774  38.340140  38.481306  37.993750  38.117122  111747096     0.00   \n",
              "4  27321761  38.185926  38.556041  37.996123  38.420806  109287044     0.00   \n",
              "\n",
              "   splitFactor  \n",
              "0          1.0  \n",
              "1          1.0  \n",
              "2          1.0  \n",
              "3          1.0  \n",
              "4          1.0  "
            ],
            "text/html": [
              "\n",
              "  <div id=\"df-69848245-4840-4cab-933b-272cba365154\">\n",
              "    <div class=\"colab-df-container\">\n",
              "      <div>\n",
              "<style scoped>\n",
              "    .dataframe tbody tr th:only-of-type {\n",
              "        vertical-align: middle;\n",
              "    }\n",
              "\n",
              "    .dataframe tbody tr th {\n",
              "        vertical-align: top;\n",
              "    }\n",
              "\n",
              "    .dataframe thead th {\n",
              "        text-align: right;\n",
              "    }\n",
              "</style>\n",
              "<table border=\"1\" class=\"dataframe\">\n",
              "  <thead>\n",
              "    <tr style=\"text-align: right;\">\n",
              "      <th></th>\n",
              "      <th>symbol</th>\n",
              "      <th>date</th>\n",
              "      <th>close</th>\n",
              "      <th>high</th>\n",
              "      <th>low</th>\n",
              "      <th>open</th>\n",
              "      <th>volume</th>\n",
              "      <th>adjClose</th>\n",
              "      <th>adjHigh</th>\n",
              "      <th>adjLow</th>\n",
              "      <th>adjOpen</th>\n",
              "      <th>adjVolume</th>\n",
              "      <th>divCash</th>\n",
              "      <th>splitFactor</th>\n",
              "    </tr>\n",
              "  </thead>\n",
              "  <tbody>\n",
              "    <tr>\n",
              "      <th>0</th>\n",
              "      <td>AAPL</td>\n",
              "      <td>2017-08-10 00:00:00+00:00</td>\n",
              "      <td>155.32</td>\n",
              "      <td>160.0000</td>\n",
              "      <td>154.63</td>\n",
              "      <td>159.90</td>\n",
              "      <td>39081017</td>\n",
              "      <td>36.850189</td>\n",
              "      <td>37.960535</td>\n",
              "      <td>36.686484</td>\n",
              "      <td>37.936810</td>\n",
              "      <td>156324068</td>\n",
              "      <td>0.63</td>\n",
              "      <td>1.0</td>\n",
              "    </tr>\n",
              "    <tr>\n",
              "      <th>1</th>\n",
              "      <td>AAPL</td>\n",
              "      <td>2017-08-11 00:00:00+00:00</td>\n",
              "      <td>157.48</td>\n",
              "      <td>158.5728</td>\n",
              "      <td>156.07</td>\n",
              "      <td>156.60</td>\n",
              "      <td>25943187</td>\n",
              "      <td>37.362656</td>\n",
              "      <td>37.621927</td>\n",
              "      <td>37.028129</td>\n",
              "      <td>37.153874</td>\n",
              "      <td>103772748</td>\n",
              "      <td>0.00</td>\n",
              "      <td>1.0</td>\n",
              "    </tr>\n",
              "    <tr>\n",
              "      <th>2</th>\n",
              "      <td>AAPL</td>\n",
              "      <td>2017-08-14 00:00:00+00:00</td>\n",
              "      <td>159.85</td>\n",
              "      <td>160.2100</td>\n",
              "      <td>158.75</td>\n",
              "      <td>159.32</td>\n",
              "      <td>21754810</td>\n",
              "      <td>37.924947</td>\n",
              "      <td>38.010358</td>\n",
              "      <td>37.663968</td>\n",
              "      <td>37.799203</td>\n",
              "      <td>87019240</td>\n",
              "      <td>0.00</td>\n",
              "      <td>1.0</td>\n",
              "    </tr>\n",
              "    <tr>\n",
              "      <th>3</th>\n",
              "      <td>AAPL</td>\n",
              "      <td>2017-08-15 00:00:00+00:00</td>\n",
              "      <td>161.60</td>\n",
              "      <td>162.1950</td>\n",
              "      <td>160.14</td>\n",
              "      <td>160.66</td>\n",
              "      <td>27936774</td>\n",
              "      <td>38.340140</td>\n",
              "      <td>38.481306</td>\n",
              "      <td>37.993750</td>\n",
              "      <td>38.117122</td>\n",
              "      <td>111747096</td>\n",
              "      <td>0.00</td>\n",
              "      <td>1.0</td>\n",
              "    </tr>\n",
              "    <tr>\n",
              "      <th>4</th>\n",
              "      <td>AAPL</td>\n",
              "      <td>2017-08-16 00:00:00+00:00</td>\n",
              "      <td>160.95</td>\n",
              "      <td>162.5100</td>\n",
              "      <td>160.15</td>\n",
              "      <td>161.94</td>\n",
              "      <td>27321761</td>\n",
              "      <td>38.185926</td>\n",
              "      <td>38.556041</td>\n",
              "      <td>37.996123</td>\n",
              "      <td>38.420806</td>\n",
              "      <td>109287044</td>\n",
              "      <td>0.00</td>\n",
              "      <td>1.0</td>\n",
              "    </tr>\n",
              "  </tbody>\n",
              "</table>\n",
              "</div>\n",
              "      <button class=\"colab-df-convert\" onclick=\"convertToInteractive('df-69848245-4840-4cab-933b-272cba365154')\"\n",
              "              title=\"Convert this dataframe to an interactive table.\"\n",
              "              style=\"display:none;\">\n",
              "        \n",
              "  <svg xmlns=\"http://www.w3.org/2000/svg\" height=\"24px\"viewBox=\"0 0 24 24\"\n",
              "       width=\"24px\">\n",
              "    <path d=\"M0 0h24v24H0V0z\" fill=\"none\"/>\n",
              "    <path d=\"M18.56 5.44l.94 2.06.94-2.06 2.06-.94-2.06-.94-.94-2.06-.94 2.06-2.06.94zm-11 1L8.5 8.5l.94-2.06 2.06-.94-2.06-.94L8.5 2.5l-.94 2.06-2.06.94zm10 10l.94 2.06.94-2.06 2.06-.94-2.06-.94-.94-2.06-.94 2.06-2.06.94z\"/><path d=\"M17.41 7.96l-1.37-1.37c-.4-.4-.92-.59-1.43-.59-.52 0-1.04.2-1.43.59L10.3 9.45l-7.72 7.72c-.78.78-.78 2.05 0 2.83L4 21.41c.39.39.9.59 1.41.59.51 0 1.02-.2 1.41-.59l7.78-7.78 2.81-2.81c.8-.78.8-2.07 0-2.86zM5.41 20L4 18.59l7.72-7.72 1.47 1.35L5.41 20z\"/>\n",
              "  </svg>\n",
              "      </button>\n",
              "      \n",
              "  <style>\n",
              "    .colab-df-container {\n",
              "      display:flex;\n",
              "      flex-wrap:wrap;\n",
              "      gap: 12px;\n",
              "    }\n",
              "\n",
              "    .colab-df-convert {\n",
              "      background-color: #E8F0FE;\n",
              "      border: none;\n",
              "      border-radius: 50%;\n",
              "      cursor: pointer;\n",
              "      display: none;\n",
              "      fill: #1967D2;\n",
              "      height: 32px;\n",
              "      padding: 0 0 0 0;\n",
              "      width: 32px;\n",
              "    }\n",
              "\n",
              "    .colab-df-convert:hover {\n",
              "      background-color: #E2EBFA;\n",
              "      box-shadow: 0px 1px 2px rgba(60, 64, 67, 0.3), 0px 1px 3px 1px rgba(60, 64, 67, 0.15);\n",
              "      fill: #174EA6;\n",
              "    }\n",
              "\n",
              "    [theme=dark] .colab-df-convert {\n",
              "      background-color: #3B4455;\n",
              "      fill: #D2E3FC;\n",
              "    }\n",
              "\n",
              "    [theme=dark] .colab-df-convert:hover {\n",
              "      background-color: #434B5C;\n",
              "      box-shadow: 0px 1px 3px 1px rgba(0, 0, 0, 0.15);\n",
              "      filter: drop-shadow(0px 1px 2px rgba(0, 0, 0, 0.3));\n",
              "      fill: #FFFFFF;\n",
              "    }\n",
              "  </style>\n",
              "\n",
              "      <script>\n",
              "        const buttonEl =\n",
              "          document.querySelector('#df-69848245-4840-4cab-933b-272cba365154 button.colab-df-convert');\n",
              "        buttonEl.style.display =\n",
              "          google.colab.kernel.accessAllowed ? 'block' : 'none';\n",
              "\n",
              "        async function convertToInteractive(key) {\n",
              "          const element = document.querySelector('#df-69848245-4840-4cab-933b-272cba365154');\n",
              "          const dataTable =\n",
              "            await google.colab.kernel.invokeFunction('convertToInteractive',\n",
              "                                                     [key], {});\n",
              "          if (!dataTable) return;\n",
              "\n",
              "          const docLinkHtml = 'Like what you see? Visit the ' +\n",
              "            '<a target=\"_blank\" href=https://colab.research.google.com/notebooks/data_table.ipynb>data table notebook</a>'\n",
              "            + ' to learn more about interactive tables.';\n",
              "          element.innerHTML = '';\n",
              "          dataTable['output_type'] = 'display_data';\n",
              "          await google.colab.output.renderOutput(dataTable, element);\n",
              "          const docLink = document.createElement('div');\n",
              "          docLink.innerHTML = docLinkHtml;\n",
              "          element.appendChild(docLink);\n",
              "        }\n",
              "      </script>\n",
              "    </div>\n",
              "  </div>\n",
              "  "
            ]
          },
          "metadata": {},
          "execution_count": 36
        }
      ]
    },
    {
      "cell_type": "code",
      "source": [
        "df.tail()"
      ],
      "metadata": {
        "colab": {
          "base_uri": "https://localhost:8080/",
          "height": 357
        },
        "id": "7armSh99m18B",
        "outputId": "b882f05d-fbb3-46c9-a9be-1d12d2d9e58c"
      },
      "execution_count": 37,
      "outputs": [
        {
          "output_type": "execute_result",
          "data": {
            "text/plain": [
              "     symbol                       date   close    high     low     open  \\\n",
              "1252   AAPL  2022-08-02 00:00:00+00:00  160.01  162.41  159.63  160.100   \n",
              "1253   AAPL  2022-08-03 00:00:00+00:00  166.13  166.59  160.75  160.840   \n",
              "1254   AAPL  2022-08-04 00:00:00+00:00  165.81  167.19  164.43  166.005   \n",
              "1255   AAPL  2022-08-05 00:00:00+00:00  165.35  165.85  163.00  163.210   \n",
              "1256   AAPL  2022-08-08 00:00:00+00:00  164.87  167.81  164.20  166.370   \n",
              "\n",
              "        volume    adjClose     adjHigh      adjLow     adjOpen  adjVolume  \\\n",
              "1252  59907025  159.787737  162.184403  159.408265  159.877612   59907025   \n",
              "1253  82507488  165.899236  166.358597  160.526709  160.616584   82507488   \n",
              "1254  55474144  165.579681  166.957764  164.201597  165.774410   55474144   \n",
              "1255  56696985  165.350000  165.850000  163.000000  163.210000   56696985   \n",
              "1256  60362338  164.870000  167.810000  164.200000  166.370000   60362338   \n",
              "\n",
              "      divCash  splitFactor  \n",
              "1252     0.00          1.0  \n",
              "1253     0.00          1.0  \n",
              "1254     0.00          1.0  \n",
              "1255     0.23          1.0  \n",
              "1256     0.00          1.0  "
            ],
            "text/html": [
              "\n",
              "  <div id=\"df-24dfc2c8-d5f0-4319-aea9-705b2708863c\">\n",
              "    <div class=\"colab-df-container\">\n",
              "      <div>\n",
              "<style scoped>\n",
              "    .dataframe tbody tr th:only-of-type {\n",
              "        vertical-align: middle;\n",
              "    }\n",
              "\n",
              "    .dataframe tbody tr th {\n",
              "        vertical-align: top;\n",
              "    }\n",
              "\n",
              "    .dataframe thead th {\n",
              "        text-align: right;\n",
              "    }\n",
              "</style>\n",
              "<table border=\"1\" class=\"dataframe\">\n",
              "  <thead>\n",
              "    <tr style=\"text-align: right;\">\n",
              "      <th></th>\n",
              "      <th>symbol</th>\n",
              "      <th>date</th>\n",
              "      <th>close</th>\n",
              "      <th>high</th>\n",
              "      <th>low</th>\n",
              "      <th>open</th>\n",
              "      <th>volume</th>\n",
              "      <th>adjClose</th>\n",
              "      <th>adjHigh</th>\n",
              "      <th>adjLow</th>\n",
              "      <th>adjOpen</th>\n",
              "      <th>adjVolume</th>\n",
              "      <th>divCash</th>\n",
              "      <th>splitFactor</th>\n",
              "    </tr>\n",
              "  </thead>\n",
              "  <tbody>\n",
              "    <tr>\n",
              "      <th>1252</th>\n",
              "      <td>AAPL</td>\n",
              "      <td>2022-08-02 00:00:00+00:00</td>\n",
              "      <td>160.01</td>\n",
              "      <td>162.41</td>\n",
              "      <td>159.63</td>\n",
              "      <td>160.100</td>\n",
              "      <td>59907025</td>\n",
              "      <td>159.787737</td>\n",
              "      <td>162.184403</td>\n",
              "      <td>159.408265</td>\n",
              "      <td>159.877612</td>\n",
              "      <td>59907025</td>\n",
              "      <td>0.00</td>\n",
              "      <td>1.0</td>\n",
              "    </tr>\n",
              "    <tr>\n",
              "      <th>1253</th>\n",
              "      <td>AAPL</td>\n",
              "      <td>2022-08-03 00:00:00+00:00</td>\n",
              "      <td>166.13</td>\n",
              "      <td>166.59</td>\n",
              "      <td>160.75</td>\n",
              "      <td>160.840</td>\n",
              "      <td>82507488</td>\n",
              "      <td>165.899236</td>\n",
              "      <td>166.358597</td>\n",
              "      <td>160.526709</td>\n",
              "      <td>160.616584</td>\n",
              "      <td>82507488</td>\n",
              "      <td>0.00</td>\n",
              "      <td>1.0</td>\n",
              "    </tr>\n",
              "    <tr>\n",
              "      <th>1254</th>\n",
              "      <td>AAPL</td>\n",
              "      <td>2022-08-04 00:00:00+00:00</td>\n",
              "      <td>165.81</td>\n",
              "      <td>167.19</td>\n",
              "      <td>164.43</td>\n",
              "      <td>166.005</td>\n",
              "      <td>55474144</td>\n",
              "      <td>165.579681</td>\n",
              "      <td>166.957764</td>\n",
              "      <td>164.201597</td>\n",
              "      <td>165.774410</td>\n",
              "      <td>55474144</td>\n",
              "      <td>0.00</td>\n",
              "      <td>1.0</td>\n",
              "    </tr>\n",
              "    <tr>\n",
              "      <th>1255</th>\n",
              "      <td>AAPL</td>\n",
              "      <td>2022-08-05 00:00:00+00:00</td>\n",
              "      <td>165.35</td>\n",
              "      <td>165.85</td>\n",
              "      <td>163.00</td>\n",
              "      <td>163.210</td>\n",
              "      <td>56696985</td>\n",
              "      <td>165.350000</td>\n",
              "      <td>165.850000</td>\n",
              "      <td>163.000000</td>\n",
              "      <td>163.210000</td>\n",
              "      <td>56696985</td>\n",
              "      <td>0.23</td>\n",
              "      <td>1.0</td>\n",
              "    </tr>\n",
              "    <tr>\n",
              "      <th>1256</th>\n",
              "      <td>AAPL</td>\n",
              "      <td>2022-08-08 00:00:00+00:00</td>\n",
              "      <td>164.87</td>\n",
              "      <td>167.81</td>\n",
              "      <td>164.20</td>\n",
              "      <td>166.370</td>\n",
              "      <td>60362338</td>\n",
              "      <td>164.870000</td>\n",
              "      <td>167.810000</td>\n",
              "      <td>164.200000</td>\n",
              "      <td>166.370000</td>\n",
              "      <td>60362338</td>\n",
              "      <td>0.00</td>\n",
              "      <td>1.0</td>\n",
              "    </tr>\n",
              "  </tbody>\n",
              "</table>\n",
              "</div>\n",
              "      <button class=\"colab-df-convert\" onclick=\"convertToInteractive('df-24dfc2c8-d5f0-4319-aea9-705b2708863c')\"\n",
              "              title=\"Convert this dataframe to an interactive table.\"\n",
              "              style=\"display:none;\">\n",
              "        \n",
              "  <svg xmlns=\"http://www.w3.org/2000/svg\" height=\"24px\"viewBox=\"0 0 24 24\"\n",
              "       width=\"24px\">\n",
              "    <path d=\"M0 0h24v24H0V0z\" fill=\"none\"/>\n",
              "    <path d=\"M18.56 5.44l.94 2.06.94-2.06 2.06-.94-2.06-.94-.94-2.06-.94 2.06-2.06.94zm-11 1L8.5 8.5l.94-2.06 2.06-.94-2.06-.94L8.5 2.5l-.94 2.06-2.06.94zm10 10l.94 2.06.94-2.06 2.06-.94-2.06-.94-.94-2.06-.94 2.06-2.06.94z\"/><path d=\"M17.41 7.96l-1.37-1.37c-.4-.4-.92-.59-1.43-.59-.52 0-1.04.2-1.43.59L10.3 9.45l-7.72 7.72c-.78.78-.78 2.05 0 2.83L4 21.41c.39.39.9.59 1.41.59.51 0 1.02-.2 1.41-.59l7.78-7.78 2.81-2.81c.8-.78.8-2.07 0-2.86zM5.41 20L4 18.59l7.72-7.72 1.47 1.35L5.41 20z\"/>\n",
              "  </svg>\n",
              "      </button>\n",
              "      \n",
              "  <style>\n",
              "    .colab-df-container {\n",
              "      display:flex;\n",
              "      flex-wrap:wrap;\n",
              "      gap: 12px;\n",
              "    }\n",
              "\n",
              "    .colab-df-convert {\n",
              "      background-color: #E8F0FE;\n",
              "      border: none;\n",
              "      border-radius: 50%;\n",
              "      cursor: pointer;\n",
              "      display: none;\n",
              "      fill: #1967D2;\n",
              "      height: 32px;\n",
              "      padding: 0 0 0 0;\n",
              "      width: 32px;\n",
              "    }\n",
              "\n",
              "    .colab-df-convert:hover {\n",
              "      background-color: #E2EBFA;\n",
              "      box-shadow: 0px 1px 2px rgba(60, 64, 67, 0.3), 0px 1px 3px 1px rgba(60, 64, 67, 0.15);\n",
              "      fill: #174EA6;\n",
              "    }\n",
              "\n",
              "    [theme=dark] .colab-df-convert {\n",
              "      background-color: #3B4455;\n",
              "      fill: #D2E3FC;\n",
              "    }\n",
              "\n",
              "    [theme=dark] .colab-df-convert:hover {\n",
              "      background-color: #434B5C;\n",
              "      box-shadow: 0px 1px 3px 1px rgba(0, 0, 0, 0.15);\n",
              "      filter: drop-shadow(0px 1px 2px rgba(0, 0, 0, 0.3));\n",
              "      fill: #FFFFFF;\n",
              "    }\n",
              "  </style>\n",
              "\n",
              "      <script>\n",
              "        const buttonEl =\n",
              "          document.querySelector('#df-24dfc2c8-d5f0-4319-aea9-705b2708863c button.colab-df-convert');\n",
              "        buttonEl.style.display =\n",
              "          google.colab.kernel.accessAllowed ? 'block' : 'none';\n",
              "\n",
              "        async function convertToInteractive(key) {\n",
              "          const element = document.querySelector('#df-24dfc2c8-d5f0-4319-aea9-705b2708863c');\n",
              "          const dataTable =\n",
              "            await google.colab.kernel.invokeFunction('convertToInteractive',\n",
              "                                                     [key], {});\n",
              "          if (!dataTable) return;\n",
              "\n",
              "          const docLinkHtml = 'Like what you see? Visit the ' +\n",
              "            '<a target=\"_blank\" href=https://colab.research.google.com/notebooks/data_table.ipynb>data table notebook</a>'\n",
              "            + ' to learn more about interactive tables.';\n",
              "          element.innerHTML = '';\n",
              "          dataTable['output_type'] = 'display_data';\n",
              "          await google.colab.output.renderOutput(dataTable, element);\n",
              "          const docLink = document.createElement('div');\n",
              "          docLink.innerHTML = docLinkHtml;\n",
              "          element.appendChild(docLink);\n",
              "        }\n",
              "      </script>\n",
              "    </div>\n",
              "  </div>\n",
              "  "
            ]
          },
          "metadata": {},
          "execution_count": 37
        }
      ]
    },
    {
      "cell_type": "code",
      "source": [
        "df.info()"
      ],
      "metadata": {
        "colab": {
          "base_uri": "https://localhost:8080/"
        },
        "id": "30nIwgfn42mI",
        "outputId": "2a0734be-6d78-471e-d24b-e56ce7d9ffa8"
      },
      "execution_count": 38,
      "outputs": [
        {
          "output_type": "stream",
          "name": "stdout",
          "text": [
            "<class 'pandas.core.frame.DataFrame'>\n",
            "RangeIndex: 1257 entries, 0 to 1256\n",
            "Data columns (total 14 columns):\n",
            " #   Column       Non-Null Count  Dtype  \n",
            "---  ------       --------------  -----  \n",
            " 0   symbol       1257 non-null   object \n",
            " 1   date         1257 non-null   object \n",
            " 2   close        1257 non-null   float64\n",
            " 3   high         1257 non-null   float64\n",
            " 4   low          1257 non-null   float64\n",
            " 5   open         1257 non-null   float64\n",
            " 6   volume       1257 non-null   int64  \n",
            " 7   adjClose     1257 non-null   float64\n",
            " 8   adjHigh      1257 non-null   float64\n",
            " 9   adjLow       1257 non-null   float64\n",
            " 10  adjOpen      1257 non-null   float64\n",
            " 11  adjVolume    1257 non-null   int64  \n",
            " 12  divCash      1257 non-null   float64\n",
            " 13  splitFactor  1257 non-null   float64\n",
            "dtypes: float64(10), int64(2), object(2)\n",
            "memory usage: 137.6+ KB\n"
          ]
        }
      ]
    },
    {
      "cell_type": "code",
      "source": [
        "df1 = df.reset_index()[\"close\"]"
      ],
      "metadata": {
        "id": "7oJxmccFm5mB"
      },
      "execution_count": 39,
      "outputs": []
    },
    {
      "cell_type": "code",
      "source": [
        "df1"
      ],
      "metadata": {
        "colab": {
          "base_uri": "https://localhost:8080/"
        },
        "id": "7f-1kJvgno-B",
        "outputId": "e2bd3daa-b12c-4ffa-9645-f2a9848553e2"
      },
      "execution_count": 40,
      "outputs": [
        {
          "output_type": "execute_result",
          "data": {
            "text/plain": [
              "0       155.32\n",
              "1       157.48\n",
              "2       159.85\n",
              "3       161.60\n",
              "4       160.95\n",
              "         ...  \n",
              "1252    160.01\n",
              "1253    166.13\n",
              "1254    165.81\n",
              "1255    165.35\n",
              "1256    164.87\n",
              "Name: close, Length: 1257, dtype: float64"
            ]
          },
          "metadata": {},
          "execution_count": 40
        }
      ]
    },
    {
      "cell_type": "markdown",
      "source": [
        "there is no missing values"
      ],
      "metadata": {
        "id": "KuqdvMHfPjiS"
      }
    },
    {
      "cell_type": "code",
      "source": [
        "import matplotlib.pyplot as plt\n",
        "plt.plot(df1)"
      ],
      "metadata": {
        "colab": {
          "base_uri": "https://localhost:8080/",
          "height": 282
        },
        "id": "oHla9rImoqwo",
        "outputId": "cb61ee3c-9d86-4d27-a336-3f9d1f32a9bf"
      },
      "execution_count": 41,
      "outputs": [
        {
          "output_type": "execute_result",
          "data": {
            "text/plain": [
              "[<matplotlib.lines.Line2D at 0x7f7e1c9e4350>]"
            ]
          },
          "metadata": {},
          "execution_count": 41
        },
        {
          "output_type": "display_data",
          "data": {
            "text/plain": [
              "<Figure size 432x288 with 1 Axes>"
            ],
            "image/png": "[encoded data removed]"
          },
          "metadata": {
            "needs_background": "light"
          }
        }
      ]
    },
    {
      "cell_type": "code",
      "source": [
        "#there is sharp fall in the close value may be it is around covid time, so effect of that"
      ],
      "metadata": {
        "id": "scqY1LA67Ae0"
      },
      "execution_count": 42,
      "outputs": []
    },
    {
      "cell_type": "code",
      "source": [
        "#LSTM is very much sensitive to the scale of the data. So we apply scaler"
      ],
      "metadata": {
        "id": "jFzgSMjLpk1D"
      },
      "execution_count": 43,
      "outputs": []
    },
    {
      "cell_type": "markdown",
      "source": [
        "#we could have done more things before hand like corr matrix, heat map, other things"
      ],
      "metadata": {
        "id": "FVoIOD5lNY_z"
      }
    },
    {
      "cell_type": "markdown",
      "source": [
        "## Preprocess the data- Train and Test split "
      ],
      "metadata": {
        "id": "29458UlBNRzE"
      }
    },
    {
      "cell_type": "markdown",
      "source": [
        "for normally during the regression or classification problem we ca use for train test split --\n",
        "Cross validation\n",
        "random seed as follows"
      ],
      "metadata": {
        "id": "Sr_cGieTQ_ue"
      }
    },
    {
      "cell_type": "code",
      "source": [
        "import numpy as np\n",
        "from sklearn.preprocessing import MinMaxScaler\n",
        "scaler=MinMaxScaler(feature_range=(0,1))   ## scale to 0 to 1 as time series data that is day variation is 0 to 1 so label --> close price should also be in same scale\n",
        "df1=scaler.fit_transform(np.array(df1).reshape(-1,1))"
      ],
      "metadata": {
        "id": "T_X70YLjqSWA"
      },
      "execution_count": 44,
      "outputs": []
    },
    {
      "cell_type": "code",
      "source": [
        "df1.shape"
      ],
      "metadata": {
        "colab": {
          "base_uri": "https://localhost:8080/"
        },
        "id": "Kf1V2qTJ4ujX",
        "outputId": "33432635-739f-4094-9465-075369f9c920"
      },
      "execution_count": 45,
      "outputs": [
        {
          "output_type": "execute_result",
          "data": {
            "text/plain": [
              "(1257, 1)"
            ]
          },
          "metadata": {},
          "execution_count": 45
        }
      ]
    },
    {
      "cell_type": "code",
      "source": [
        "# from sklearn.model_selection import train_test_split\n",
        "# train_set, test_set = train_test_split(df1, test_size = 0.2, random_state = 42)"
      ],
      "metadata": {
        "id": "mpvi3SVW4-5X"
      },
      "execution_count": 46,
      "outputs": []
    },
    {
      "cell_type": "markdown",
      "source": [
        "But for the time series data --> Train and test devided as follows"
      ],
      "metadata": {
        "id": "SmsgggfeRWPM"
      }
    },
    {
      "cell_type": "code",
      "source": [
        "## splitting the dataset into train and test split, whenever we have time series data the next data is dependent on previous data so we split as follows"
      ],
      "metadata": {
        "id": "GArx2KXeNJjT"
      },
      "execution_count": 47,
      "outputs": []
    },
    {
      "cell_type": "code",
      "source": [
        "df1"
      ],
      "metadata": {
        "colab": {
          "base_uri": "https://localhost:8080/"
        },
        "id": "-jZJIpRzx2ET",
        "outputId": "5a81ad0c-82d2-4e02-87a7-7932c0d67b76"
      },
      "execution_count": 48,
      "outputs": [
        {
          "output_type": "execute_result",
          "data": {
            "text/plain": [
              "array([[0.12142768],\n",
              "       [0.12683782],\n",
              "       [0.13277395],\n",
              "       ...,\n",
              "       [0.14770194],\n",
              "       [0.14654978],\n",
              "       [0.14534753]])"
            ]
          },
          "metadata": {},
          "execution_count": 48
        }
      ]
    },
    {
      "cell_type": "code",
      "source": [
        "train_size = int(len(df1)*0.65)   # 65% of the total data as train data\n",
        "test_size = len(df1)-train_size\n",
        "train_data, test_data = df1[0:train_size, :], df1[train_size:len(df1), :1]"
      ],
      "metadata": {
        "id": "EdkQL3ZFRpRD"
      },
      "execution_count": 49,
      "outputs": []
    },
    {
      "cell_type": "code",
      "source": [
        "train_size, test_size"
      ],
      "metadata": {
        "colab": {
          "base_uri": "https://localhost:8080/"
        },
        "id": "jpqOteCOSTBb",
        "outputId": "35bb84f1-e83a-4287-9651-7a78a64e699e"
      },
      "execution_count": 50,
      "outputs": [
        {
          "output_type": "execute_result",
          "data": {
            "text/plain": [
              "(817, 440)"
            ]
          },
          "metadata": {},
          "execution_count": 50
        }
      ]
    },
    {
      "cell_type": "code",
      "source": [
        "train_data[100]"
      ],
      "metadata": {
        "colab": {
          "base_uri": "https://localhost:8080/"
        },
        "id": "NmG0GKmSKi35",
        "outputId": "26139d18-99ed-43c2-9950-d6536c6549ad"
      },
      "execution_count": 58,
      "outputs": [
        {
          "output_type": "execute_result",
          "data": {
            "text/plain": [
              "array([0.16378209])"
            ]
          },
          "metadata": {},
          "execution_count": 58
        }
      ]
    },
    {
      "cell_type": "code",
      "source": [
        "import numpy\n",
        "# convert an array of values into a dataset matrix\n",
        "def create_dataset(dataset, time_step=1):\n",
        "\tdataX, dataY = [], []\n",
        "\tfor i in range(len(dataset)-time_step-1):\n",
        "\t\ta = dataset[i:(i+time_step), 0]   ###i=0, 0,1,2,3-----99   100 \n",
        "\t\tdataX.append(a)\n",
        "\t\tdataY.append(dataset[i + time_step, 0])\n",
        "\treturn numpy.array(dataX), numpy.array(dataY)\n"
      ],
      "metadata": {
        "id": "Db636OBnCp1G"
      },
      "execution_count": 52,
      "outputs": []
    },
    {
      "cell_type": "code",
      "source": [
        "time_step = 100\n",
        "X_train, Y_train = create_dataset(train_data, time_step)\n",
        "X_test, Y_test = create_dataset(test_data, time_step)"
      ],
      "metadata": {
        "id": "W4wTxw9DIv-m"
      },
      "execution_count": 56,
      "outputs": []
    },
    {
      "cell_type": "code",
      "source": [
        "print(X_train)"
      ],
      "metadata": {
        "colab": {
          "base_uri": "https://localhost:8080/"
        },
        "id": "iigRExhlJKl1",
        "outputId": "da64dfaf-a6b4-4ca6-9d89-bf5833227eb4"
      },
      "execution_count": 57,
      "outputs": [
        {
          "output_type": "stream",
          "name": "stdout",
          "text": [
            "[[0.12142768 0.12683782 0.13277395 ... 0.16090169 0.156268   0.16385723]\n",
            " [0.12683782 0.13277395 0.13715717 ... 0.156268   0.16385723 0.16378209]\n",
            " [0.13277395 0.13715717 0.13552912 ... 0.16385723 0.16378209 0.16578585]\n",
            " ...\n",
            " [0.57372574 0.58098936 0.59148403 ... 0.01092048 0.02123982 0.00505949]\n",
            " [0.58098936 0.59148403 0.61425172 ... 0.02123982 0.00505949 0.00483406]\n",
            " [0.59148403 0.61425172 0.61302442 ... 0.00505949 0.00483406 0.00901691]]\n"
          ]
        }
      ]
    },
    {
      "cell_type": "code",
      "source": [
        "print(X_train.shape)   # yeah I can make sense of this as total iteration in time step =len(train_data)-time_step-1, where time_step=100"
      ],
      "metadata": {
        "colab": {
          "base_uri": "https://localhost:8080/"
        },
        "id": "U4r-SIB0KEPe",
        "outputId": "33f0a0c6-ac2a-40d1-9bda-d32afd0a3695"
      },
      "execution_count": 60,
      "outputs": [
        {
          "output_type": "stream",
          "name": "stdout",
          "text": [
            "(716, 100)\n"
          ]
        }
      ]
    },
    {
      "cell_type": "code",
      "source": [
        "print(Y_train)  # for  0 to 99 which goes into X_train Y_train is the 100th element of the train_data"
      ],
      "metadata": {
        "id": "mHKIasgLKOME"
      },
      "execution_count": null,
      "outputs": []
    },
    {
      "cell_type": "code",
      "source": [
        "print(X_test.shape)"
      ],
      "metadata": {
        "colab": {
          "base_uri": "https://localhost:8080/"
        },
        "id": "ZHQDFheoN3y-",
        "outputId": "46bd531f-ae9c-4d39-9de4-1056dc099da7"
      },
      "execution_count": 63,
      "outputs": [
        {
          "output_type": "stream",
          "name": "stdout",
          "text": [
            "(339, 100)\n"
          ]
        }
      ]
    },
    {
      "cell_type": "code",
      "source": [
        "# reshape the 2-d X matrix data into 3-d [samples, time steps, features] , this is required for LSTM model. It's just like we do sanpshot matrix for DMD\n",
        "X_train =X_train.reshape(X_train.shape[0],X_train.shape[1] , 1)\n",
        "X_test = X_test.reshape(X_test.shape[0],X_test.shape[1] , 1)\n",
        "\n"
      ],
      "metadata": {
        "id": "e5svQB1lOEiU"
      },
      "execution_count": 70,
      "outputs": []
    },
    {
      "cell_type": "code",
      "source": [
        "X_train"
      ],
      "metadata": {
        "colab": {
          "base_uri": "https://localhost:8080/"
        },
        "id": "7PyYMT4qRD3f",
        "outputId": "bbf2c343-a6af-418c-8979-e72b812be9cb"
      },
      "execution_count": 71,
      "outputs": [
        {
          "output_type": "execute_result",
          "data": {
            "text/plain": [
              "array([[[0.12142768],\n",
              "        [0.12683782],\n",
              "        [0.13277395],\n",
              "        ...,\n",
              "        [0.16090169],\n",
              "        [0.156268  ],\n",
              "        [0.16385723]],\n",
              "\n",
              "       [[0.12683782],\n",
              "        [0.13277395],\n",
              "        [0.13715717],\n",
              "        ...,\n",
              "        [0.156268  ],\n",
              "        [0.16385723],\n",
              "        [0.16378209]],\n",
              "\n",
              "       [[0.13277395],\n",
              "        [0.13715717],\n",
              "        [0.13552912],\n",
              "        ...,\n",
              "        [0.16385723],\n",
              "        [0.16378209],\n",
              "        [0.16578585]],\n",
              "\n",
              "       ...,\n",
              "\n",
              "       [[0.57372574],\n",
              "        [0.58098936],\n",
              "        [0.59148403],\n",
              "        ...,\n",
              "        [0.01092048],\n",
              "        [0.02123982],\n",
              "        [0.00505949]],\n",
              "\n",
              "       [[0.58098936],\n",
              "        [0.59148403],\n",
              "        [0.61425172],\n",
              "        ...,\n",
              "        [0.02123982],\n",
              "        [0.00505949],\n",
              "        [0.00483406]],\n",
              "\n",
              "       [[0.59148403],\n",
              "        [0.61425172],\n",
              "        [0.61302442],\n",
              "        ...,\n",
              "        [0.00505949],\n",
              "        [0.00483406],\n",
              "        [0.00901691]]])"
            ]
          },
          "metadata": {},
          "execution_count": 71
        }
      ]
    },
    {
      "cell_type": "code",
      "source": [
        "### Create the Stacked LSTM model\n",
        "from tensorflow.keras.models import Sequential\n",
        "from tensorflow.keras.layers import Dense\n",
        "from tensorflow.keras.layers import LSTM"
      ],
      "metadata": {
        "id": "UqXKNjWnRi17"
      },
      "execution_count": 72,
      "outputs": []
    },
    {
      "cell_type": "code",
      "source": [
        "model=Sequential()\n",
        "model.add(LSTM(50,return_sequences=True,input_shape=(100,1)))\n",
        "model.add(LSTM(50,return_sequences=True))\n",
        "model.add(LSTM(50))\n",
        "model.add(Dense(1))\n",
        "model.compile(loss='mean_squared_error',optimizer='adam')"
      ],
      "metadata": {
        "id": "YRref9MnT5eg"
      },
      "execution_count": 73,
      "outputs": []
    },
    {
      "cell_type": "code",
      "source": [
        "model.summary()\n"
      ],
      "metadata": {
        "colab": {
          "base_uri": "https://localhost:8080/"
        },
        "id": "mxsJs8q-T7sq",
        "outputId": "57a3b6c6-e619-4a31-d8f9-6af4b6edc413"
      },
      "execution_count": 74,
      "outputs": [
        {
          "output_type": "stream",
          "name": "stdout",
          "text": [
            "Model: \"sequential\"\n",
            "_________________________________________________________________\n",
            " Layer (type)                Output Shape              Param #   \n",
            "=================================================================\n",
            " lstm (LSTM)                 (None, 100, 50)           10400     \n",
            "                                                                 \n",
            " lstm_1 (LSTM)               (None, 100, 50)           20200     \n",
            "                                                                 \n",
            " lstm_2 (LSTM)               (None, 50)                20200     \n",
            "                                                                 \n",
            " dense (Dense)               (None, 1)                 51        \n",
            "                                                                 \n",
            "=================================================================\n",
            "Total params: 50,851\n",
            "Trainable params: 50,851\n",
            "Non-trainable params: 0\n",
            "_________________________________________________________________\n"
          ]
        }
      ]
    },
    {
      "cell_type": "code",
      "source": [
        "model.fit(X_train,Y_train,validation_data=(X_test,Y_test),epochs=100,batch_size=64,verbose=1)"
      ],
      "metadata": {
        "colab": {
          "base_uri": "https://localhost:8080/"
        },
        "id": "Z7JoQwZAUCgr",
        "outputId": "ba0034e3-de6c-47b4-f3f9-b7311e21344f"
      },
      "execution_count": 76,
      "outputs": [
        {
          "output_type": "stream",
          "name": "stdout",
          "text": [
            "Epoch 1/100\n",
            "12/12 [==============================] - 10s 317ms/step - loss: 0.0494 - val_loss: 0.0059\n",
            "Epoch 2/100\n",
            "12/12 [==============================] - 2s 197ms/step - loss: 0.0156 - val_loss: 0.0069\n",
            "Epoch 3/100\n",
            "12/12 [==============================] - 2s 199ms/step - loss: 0.0120 - val_loss: 7.1401e-04\n",
            "Epoch 4/100\n",
            "12/12 [==============================] - 2s 194ms/step - loss: 0.0102 - val_loss: 3.0413e-04\n",
            "Epoch 5/100\n",
            "12/12 [==============================] - 2s 193ms/step - loss: 0.0091 - val_loss: 9.1044e-04\n",
            "Epoch 6/100\n",
            "12/12 [==============================] - 2s 198ms/step - loss: 0.0084 - val_loss: 4.9344e-04\n",
            "Epoch 7/100\n",
            "12/12 [==============================] - 3s 290ms/step - loss: 0.0084 - val_loss: 0.0012\n",
            "Epoch 8/100\n",
            "12/12 [==============================] - 2s 198ms/step - loss: 0.0081 - val_loss: 0.0017\n",
            "Epoch 9/100\n",
            "12/12 [==============================] - 2s 200ms/step - loss: 0.0067 - val_loss: 3.1652e-04\n",
            "Epoch 10/100\n",
            "12/12 [==============================] - 2s 200ms/step - loss: 0.0067 - val_loss: 2.7848e-04\n",
            "Epoch 11/100\n",
            "12/12 [==============================] - 2s 209ms/step - loss: 0.0058 - val_loss: 4.3948e-04\n",
            "Epoch 12/100\n",
            "12/12 [==============================] - 2s 200ms/step - loss: 0.0052 - val_loss: 4.6993e-04\n",
            "Epoch 13/100\n",
            "12/12 [==============================] - 2s 207ms/step - loss: 0.0054 - val_loss: 3.8599e-04\n",
            "Epoch 14/100\n",
            "12/12 [==============================] - 2s 204ms/step - loss: 0.0052 - val_loss: 3.6222e-04\n",
            "Epoch 15/100\n",
            "12/12 [==============================] - 2s 198ms/step - loss: 0.0044 - val_loss: 6.9637e-04\n",
            "Epoch 16/100\n",
            "12/12 [==============================] - 2s 202ms/step - loss: 0.0060 - val_loss: 3.9698e-04\n",
            "Epoch 17/100\n",
            "12/12 [==============================] - 2s 203ms/step - loss: 0.0042 - val_loss: 4.1794e-04\n",
            "Epoch 18/100\n",
            "12/12 [==============================] - 2s 205ms/step - loss: 0.0035 - val_loss: 4.0059e-04\n",
            "Epoch 19/100\n",
            "12/12 [==============================] - 2s 200ms/step - loss: 0.0038 - val_loss: 5.6889e-04\n",
            "Epoch 20/100\n",
            "12/12 [==============================] - 2s 203ms/step - loss: 0.0029 - val_loss: 5.5431e-04\n",
            "Epoch 21/100\n",
            "12/12 [==============================] - 2s 201ms/step - loss: 0.0026 - val_loss: 4.9257e-04\n",
            "Epoch 22/100\n",
            "12/12 [==============================] - 2s 205ms/step - loss: 0.0030 - val_loss: 2.1301e-04\n",
            "Epoch 23/100\n",
            "12/12 [==============================] - 2s 200ms/step - loss: 0.0028 - val_loss: 3.8961e-04\n",
            "Epoch 24/100\n",
            "12/12 [==============================] - 2s 200ms/step - loss: 0.0025 - val_loss: 4.4079e-04\n",
            "Epoch 25/100\n",
            "12/12 [==============================] - 2s 199ms/step - loss: 0.0025 - val_loss: 2.3498e-04\n",
            "Epoch 26/100\n",
            "12/12 [==============================] - 2s 197ms/step - loss: 0.0026 - val_loss: 2.3439e-04\n",
            "Epoch 27/100\n",
            "12/12 [==============================] - 2s 200ms/step - loss: 0.0036 - val_loss: 2.5260e-04\n",
            "Epoch 28/100\n",
            "12/12 [==============================] - 2s 198ms/step - loss: 0.0031 - val_loss: 4.5189e-04\n",
            "Epoch 29/100\n",
            "12/12 [==============================] - 2s 199ms/step - loss: 0.0032 - val_loss: 0.0011\n",
            "Epoch 30/100\n",
            "12/12 [==============================] - 2s 195ms/step - loss: 0.0035 - val_loss: 1.9729e-04\n",
            "Epoch 31/100\n",
            "12/12 [==============================] - 2s 196ms/step - loss: 0.0031 - val_loss: 5.0793e-04\n",
            "Epoch 32/100\n",
            "12/12 [==============================] - 2s 197ms/step - loss: 0.0022 - val_loss: 2.6115e-04\n",
            "Epoch 33/100\n",
            "12/12 [==============================] - 2s 196ms/step - loss: 0.0022 - val_loss: 1.9768e-04\n",
            "Epoch 34/100\n",
            "12/12 [==============================] - 2s 195ms/step - loss: 0.0020 - val_loss: 2.0346e-04\n",
            "Epoch 35/100\n",
            "12/12 [==============================] - 2s 197ms/step - loss: 0.0023 - val_loss: 2.9187e-04\n",
            "Epoch 36/100\n",
            "12/12 [==============================] - 2s 203ms/step - loss: 0.0022 - val_loss: 2.5367e-04\n",
            "Epoch 37/100\n",
            "12/12 [==============================] - 2s 199ms/step - loss: 0.0024 - val_loss: 2.2307e-04\n",
            "Epoch 38/100\n",
            "12/12 [==============================] - 2s 196ms/step - loss: 0.0021 - val_loss: 2.0490e-04\n",
            "Epoch 39/100\n",
            "12/12 [==============================] - 2s 198ms/step - loss: 0.0019 - val_loss: 2.8334e-04\n",
            "Epoch 40/100\n",
            "12/12 [==============================] - 2s 196ms/step - loss: 0.0022 - val_loss: 4.2473e-04\n",
            "Epoch 41/100\n",
            "12/12 [==============================] - 2s 200ms/step - loss: 0.0021 - val_loss: 2.4792e-04\n",
            "Epoch 42/100\n",
            "12/12 [==============================] - 2s 197ms/step - loss: 0.0019 - val_loss: 2.1552e-04\n",
            "Epoch 43/100\n",
            "12/12 [==============================] - 2s 197ms/step - loss: 0.0018 - val_loss: 2.2602e-04\n",
            "Epoch 44/100\n",
            "12/12 [==============================] - 2s 196ms/step - loss: 0.0018 - val_loss: 3.7162e-04\n",
            "Epoch 45/100\n",
            "12/12 [==============================] - 2s 201ms/step - loss: 0.0055 - val_loss: 0.0030\n",
            "Epoch 46/100\n",
            "12/12 [==============================] - 2s 196ms/step - loss: 0.0058 - val_loss: 3.1884e-04\n",
            "Epoch 47/100\n",
            "12/12 [==============================] - 2s 200ms/step - loss: 0.0044 - val_loss: 2.3163e-04\n",
            "Epoch 48/100\n",
            "12/12 [==============================] - 2s 193ms/step - loss: 0.0035 - val_loss: 3.0489e-04\n",
            "Epoch 49/100\n",
            "12/12 [==============================] - 2s 196ms/step - loss: 0.0038 - val_loss: 3.3258e-04\n",
            "Epoch 50/100\n",
            "12/12 [==============================] - 2s 194ms/step - loss: 0.0038 - val_loss: 2.0535e-04\n",
            "Epoch 51/100\n",
            "12/12 [==============================] - 2s 196ms/step - loss: 0.0029 - val_loss: 2.5879e-04\n",
            "Epoch 52/100\n",
            "12/12 [==============================] - 2s 198ms/step - loss: 0.0027 - val_loss: 3.4688e-04\n",
            "Epoch 53/100\n",
            "12/12 [==============================] - 2s 196ms/step - loss: 0.0027 - val_loss: 2.5269e-04\n",
            "Epoch 54/100\n",
            "12/12 [==============================] - 2s 200ms/step - loss: 0.0031 - val_loss: 3.8873e-04\n",
            "Epoch 55/100\n",
            "12/12 [==============================] - 2s 199ms/step - loss: 0.0027 - val_loss: 2.1383e-04\n",
            "Epoch 56/100\n",
            "12/12 [==============================] - 2s 196ms/step - loss: 0.0029 - val_loss: 1.8977e-04\n",
            "Epoch 57/100\n",
            "12/12 [==============================] - 2s 195ms/step - loss: 0.0024 - val_loss: 2.1086e-04\n",
            "Epoch 58/100\n",
            "12/12 [==============================] - 2s 198ms/step - loss: 0.0022 - val_loss: 2.5277e-04\n",
            "Epoch 59/100\n",
            "12/12 [==============================] - 2s 194ms/step - loss: 0.0020 - val_loss: 1.9311e-04\n",
            "Epoch 60/100\n",
            "12/12 [==============================] - 2s 198ms/step - loss: 0.0018 - val_loss: 3.0637e-04\n",
            "Epoch 61/100\n",
            "12/12 [==============================] - 2s 198ms/step - loss: 0.0017 - val_loss: 2.3130e-04\n",
            "Epoch 62/100\n",
            "12/12 [==============================] - 2s 195ms/step - loss: 0.0020 - val_loss: 2.9655e-04\n",
            "Epoch 63/100\n",
            "12/12 [==============================] - 2s 201ms/step - loss: 0.0018 - val_loss: 1.9628e-04\n",
            "Epoch 64/100\n",
            "12/12 [==============================] - 2s 197ms/step - loss: 0.0027 - val_loss: 7.2376e-04\n",
            "Epoch 65/100\n",
            "12/12 [==============================] - 2s 195ms/step - loss: 0.0047 - val_loss: 3.3936e-04\n",
            "Epoch 66/100\n",
            "12/12 [==============================] - 2s 194ms/step - loss: 0.0026 - val_loss: 3.4857e-04\n",
            "Epoch 67/100\n",
            "12/12 [==============================] - 2s 197ms/step - loss: 0.0024 - val_loss: 2.2103e-04\n",
            "Epoch 68/100\n",
            "12/12 [==============================] - 3s 235ms/step - loss: 0.0019 - val_loss: 2.2224e-04\n",
            "Epoch 69/100\n",
            "12/12 [==============================] - 3s 244ms/step - loss: 0.0017 - val_loss: 2.8001e-04\n",
            "Epoch 70/100\n",
            "12/12 [==============================] - 2s 196ms/step - loss: 0.0018 - val_loss: 1.9438e-04\n",
            "Epoch 71/100\n",
            "12/12 [==============================] - 2s 199ms/step - loss: 0.0029 - val_loss: 2.9392e-04\n",
            "Epoch 72/100\n",
            "12/12 [==============================] - 2s 197ms/step - loss: 0.0018 - val_loss: 2.0775e-04\n",
            "Epoch 73/100\n",
            "12/12 [==============================] - 2s 194ms/step - loss: 0.0017 - val_loss: 2.0479e-04\n",
            "Epoch 74/100\n",
            "12/12 [==============================] - 2s 196ms/step - loss: 0.0018 - val_loss: 2.4357e-04\n",
            "Epoch 75/100\n",
            "12/12 [==============================] - 2s 200ms/step - loss: 0.0017 - val_loss: 2.0227e-04\n",
            "Epoch 76/100\n",
            "12/12 [==============================] - 2s 201ms/step - loss: 0.0015 - val_loss: 4.1321e-04\n",
            "Epoch 77/100\n",
            "12/12 [==============================] - 2s 196ms/step - loss: 0.0015 - val_loss: 2.3007e-04\n",
            "Epoch 78/100\n",
            "12/12 [==============================] - 2s 201ms/step - loss: 0.0015 - val_loss: 2.3570e-04\n",
            "Epoch 79/100\n",
            "12/12 [==============================] - 2s 196ms/step - loss: 0.0014 - val_loss: 2.1335e-04\n",
            "Epoch 80/100\n",
            "12/12 [==============================] - 2s 195ms/step - loss: 0.0015 - val_loss: 2.5871e-04\n",
            "Epoch 81/100\n",
            "12/12 [==============================] - 2s 200ms/step - loss: 0.0013 - val_loss: 2.0199e-04\n",
            "Epoch 82/100\n",
            "12/12 [==============================] - 2s 198ms/step - loss: 0.0012 - val_loss: 2.4240e-04\n",
            "Epoch 83/100\n",
            "12/12 [==============================] - 2s 201ms/step - loss: 0.0012 - val_loss: 2.1201e-04\n",
            "Epoch 84/100\n",
            "12/12 [==============================] - 2s 200ms/step - loss: 0.0011 - val_loss: 2.0252e-04\n",
            "Epoch 85/100\n",
            "12/12 [==============================] - 2s 199ms/step - loss: 0.0015 - val_loss: 1.9209e-04\n",
            "Epoch 86/100\n",
            "12/12 [==============================] - 2s 202ms/step - loss: 0.0020 - val_loss: 2.6062e-04\n",
            "Epoch 87/100\n",
            "12/12 [==============================] - 2s 205ms/step - loss: 0.0016 - val_loss: 3.4091e-04\n",
            "Epoch 88/100\n",
            "12/12 [==============================] - 2s 199ms/step - loss: 0.0011 - val_loss: 4.0784e-04\n",
            "Epoch 89/100\n",
            "12/12 [==============================] - 2s 195ms/step - loss: 0.0044 - val_loss: 0.0015\n",
            "Epoch 90/100\n",
            "12/12 [==============================] - 2s 196ms/step - loss: 0.0023 - val_loss: 3.2309e-04\n",
            "Epoch 91/100\n",
            "12/12 [==============================] - 2s 199ms/step - loss: 0.0019 - val_loss: 1.8555e-04\n",
            "Epoch 92/100\n",
            "12/12 [==============================] - 2s 198ms/step - loss: 0.0017 - val_loss: 1.9201e-04\n",
            "Epoch 93/100\n",
            "12/12 [==============================] - 2s 196ms/step - loss: 0.0020 - val_loss: 1.8698e-04\n",
            "Epoch 94/100\n",
            "12/12 [==============================] - 2s 205ms/step - loss: 0.0012 - val_loss: 1.9443e-04\n",
            "Epoch 95/100\n",
            "12/12 [==============================] - 2s 197ms/step - loss: 0.0019 - val_loss: 4.0005e-04\n",
            "Epoch 96/100\n",
            "12/12 [==============================] - 2s 195ms/step - loss: 0.0012 - val_loss: 1.9752e-04\n",
            "Epoch 97/100\n",
            "12/12 [==============================] - 2s 194ms/step - loss: 0.0015 - val_loss: 2.2282e-04\n",
            "Epoch 98/100\n",
            "12/12 [==============================] - 2s 199ms/step - loss: 0.0014 - val_loss: 1.9724e-04\n",
            "Epoch 99/100\n",
            "12/12 [==============================] - 2s 195ms/step - loss: 0.0018 - val_loss: 7.3757e-04\n",
            "Epoch 100/100\n",
            "12/12 [==============================] - 2s 195ms/step - loss: 0.0017 - val_loss: 2.3761e-04\n"
          ]
        },
        {
          "output_type": "execute_result",
          "data": {
            "text/plain": [
              "<keras.callbacks.History at 0x7f7db989f150>"
            ]
          },
          "metadata": {},
          "execution_count": 76
        }
      ]
    },
    {
      "cell_type": "code",
      "source": [
        "### lets do the prediction and check for performance matrix\n",
        "train_predict = model.predict(X_train)\n",
        "test_predict = model.predict(X_test)"
      ],
      "metadata": {
        "id": "Xvh5Q40pUHck"
      },
      "execution_count": 77,
      "outputs": []
    },
    {
      "cell_type": "code",
      "source": [
        "##Transformback to original form\n",
        "train_predict=scaler.inverse_transform(train_predict)\n",
        "test_predict=scaler.inverse_transform(test_predict)"
      ],
      "metadata": {
        "id": "tsWgkOTfVlpI"
      },
      "execution_count": 78,
      "outputs": []
    },
    {
      "cell_type": "code",
      "source": [
        "# calculate RMSE performance matrics\n",
        "from sklearn.metrics import mean_squared_error\n",
        "mse = mean_squared_error(Y_train, train_predict)\n",
        "rmse = np.sqrt(mse)\n",
        "rmse"
      ],
      "metadata": {
        "colab": {
          "base_uri": "https://localhost:8080/"
        },
        "id": "LXA_Ud7NVsw3",
        "outputId": "c274d6e4-4c32-45d9-ba0a-8f03f6d01985"
      },
      "execution_count": 80,
      "outputs": [
        {
          "output_type": "execute_result",
          "data": {
            "text/plain": [
              "234.29070151536573"
            ]
          },
          "metadata": {},
          "execution_count": 80
        }
      ]
    },
    {
      "cell_type": "code",
      "source": [
        "mse = mean_squared_error(Y_test, test_predict)\n",
        "rmse = np.sqrt(mse)\n",
        "rmse"
      ],
      "metadata": {
        "colab": {
          "base_uri": "https://localhost:8080/"
        },
        "id": "cRzcoG61WiZ0",
        "outputId": "94a2d540-19ce-473a-c25f-c94f840a3544"
      },
      "execution_count": 82,
      "outputs": [
        {
          "output_type": "execute_result",
          "data": {
            "text/plain": [
              "149.1121603925131"
            ]
          },
          "metadata": {},
          "execution_count": 82
        }
      ]
    },
    {
      "cell_type": "code",
      "source": [
        "### Plotting \n",
        "# shift train predictions for plotting\n",
        "look_back=100\n",
        "trainPredictPlot = numpy.empty_like(df1)\n",
        "trainPredictPlot[:, :] = np.nan\n",
        "trainPredictPlot[look_back:len(train_predict)+look_back, :] = train_predict\n",
        "# shift test predictions for plotting\n",
        "testPredictPlot = numpy.empty_like(df1)\n",
        "testPredictPlot[:, :] = numpy.nan\n",
        "testPredictPlot[len(train_predict)+(look_back*2)+1:len(df1)-1, :] = test_predict\n",
        "# plot baseline and predictions\n",
        "plt.plot(scaler.inverse_transform(df1))\n",
        "plt.plot(trainPredictPlot)\n",
        "plt.plot(testPredictPlot)\n",
        "plt.show()"
      ],
      "metadata": {
        "colab": {
          "base_uri": "https://localhost:8080/",
          "height": 265
        },
        "id": "KXGtjAKaW02z",
        "outputId": "24b8ca44-08ae-4721-ba42-9aacd051e9ab"
      },
      "execution_count": 83,
      "outputs": [
        {
          "output_type": "display_data",
          "data": {
            "text/plain": [
              "<Figure size 432x288 with 1 Axes>"
            ],
            "image/png": "[encoded data removed]"
          },
          "metadata": {
            "needs_background": "light"
          }
        }
      ]
    },
    {
      "cell_type": "code",
      "source": [
        "len(test_data)"
      ],
      "metadata": {
        "colab": {
          "base_uri": "https://localhost:8080/"
        },
        "id": "J5NFtHrgZFYX",
        "outputId": "ccb1196b-373b-4465-d864-5fd4b980c308"
      },
      "execution_count": 84,
      "outputs": [
        {
          "output_type": "execute_result",
          "data": {
            "text/plain": [
              "440"
            ]
          },
          "metadata": {},
          "execution_count": 84
        }
      ]
    },
    {
      "cell_type": "code",
      "source": [
        "x_input=test_data[340:].reshape(1,-1)\n",
        "x_input.shape"
      ],
      "metadata": {
        "colab": {
          "base_uri": "https://localhost:8080/"
        },
        "id": "JxALg5GVZw3R",
        "outputId": "fb06a097-8f4a-4bfb-98a2-744e17cd4fc3"
      },
      "execution_count": 91,
      "outputs": [
        {
          "output_type": "execute_result",
          "data": {
            "text/plain": [
              "(1, 100)"
            ]
          },
          "metadata": {},
          "execution_count": 91
        }
      ]
    },
    {
      "cell_type": "code",
      "source": [
        "temp_input=list(x_input)\n",
        "temp_input=temp_input[0].tolist()"
      ],
      "metadata": {
        "id": "Rh8ZtfiJbZXa"
      },
      "execution_count": 92,
      "outputs": []
    },
    {
      "cell_type": "code",
      "source": [
        "temp_input\n"
      ],
      "metadata": {
        "colab": {
          "base_uri": "https://localhost:8080/"
        },
        "id": "3nCZVQ1vbZ-o",
        "outputId": "499892bb-e2bd-4609-f60d-69f5dfab1ffb"
      },
      "execution_count": 93,
      "outputs": [
        {
          "output_type": "execute_result",
          "data": {
            "text/plain": [
              "[0.13212273011897302,\n",
              " 0.13470256731371316,\n",
              " 0.14311834690043823,\n",
              " 0.14662492172824038,\n",
              " 0.1552410770194113,\n",
              " 0.1587226048841578,\n",
              " 0.16839073262366933,\n",
              " 0.17001878522229175,\n",
              " 0.17222291797119593,\n",
              " 0.18063869755792106,\n",
              " 0.1776581089542893,\n",
              " 0.16974326862867878,\n",
              " 0.16899185973700687,\n",
              " 0.1793362554790231,\n",
              " 0.17087038196618654,\n",
              " 0.16278021289918598,\n",
              " 0.1635566687539135,\n",
              " 0.158422041327489,\n",
              " 0.14755165936130238,\n",
              " 0.1523356293049467,\n",
              " 0.15919849718221663,\n",
              " 0.14639949906073885,\n",
              " 0.1458484658735128,\n",
              " 0.15168440826549778,\n",
              " 0.15125860989355033,\n",
              " 0.14922980588603624,\n",
              " 0.13763306199123349,\n",
              " 0.140363180964308,\n",
              " 0.1251346274264245,\n",
              " 0.12455854727614268,\n",
              " 0.14226675015654344,\n",
              " 0.12726361928616153,\n",
              " 0.12804007514088916,\n",
              " 0.13184721352536,\n",
              " 0.14822792736380713,\n",
              " 0.12505948653725735,\n",
              " 0.12633688165309953,\n",
              " 0.11326236693800873,\n",
              " 0.11939887288666245,\n",
              " 0.09933625547902314,\n",
              " 0.08946775203506574,\n",
              " 0.10086412022542268,\n",
              " 0.09693174702567309,\n",
              " 0.10619912335629306,\n",
              " 0.08510958046336875,\n",
              " 0.0764182842830306,\n",
              " 0.07701941139636814,\n",
              " 0.09084533500313086,\n",
              " 0.08395742016280527,\n",
              " 0.0843581715716969,\n",
              " 0.09252348152786471,\n",
              " 0.10720100187852216,\n",
              " 0.10519724483406384,\n",
              " 0.10487163431433938,\n",
              " 0.11113337507827176,\n",
              " 0.09653099561678141,\n",
              " 0.09843456480901686,\n",
              " 0.10487163431433938,\n",
              " 0.10299311208515965,\n",
              " 0.0896681277395115,\n",
              " 0.07586725109580456,\n",
              " 0.0627175954915466,\n",
              " 0.06492172824045078,\n",
              " 0.07160926737633061,\n",
              " 0.05815904821540385,\n",
              " 0.061916092673763246,\n",
              " 0.0727113337507827,\n",
              " 0.07140889167188474,\n",
              " 0.07872260488415778,\n",
              " 0.08721352536005006,\n",
              " 0.08721352536005006,\n",
              " 0.07664370695053219,\n",
              " 0.08112711333750777,\n",
              " 0.07484032561051968,\n",
              " 0.08037570444583592,\n",
              " 0.08696305572949276,\n",
              " 0.09036944270507191,\n",
              " 0.09896055103318718,\n",
              " 0.10068879148403248,\n",
              " 0.09525360050093923,\n",
              " 0.0977332498434565,\n",
              " 0.09680651221039449,\n",
              " 0.10427050720100184,\n",
              " 0.10852849092047584,\n",
              " 0.1007639323731997,\n",
              " 0.11060738885410137,\n",
              " 0.11571696931747022,\n",
              " 0.12150281778334371,\n",
              " 0.1183469004383218,\n",
              " 0.11549154664996863,\n",
              " 0.11211020663744514,\n",
              " 0.12510958046336873,\n",
              " 0.12651221039448962,\n",
              " 0.139436443331246,\n",
              " 0.13693174702567307,\n",
              " 0.13317470256731367,\n",
              " 0.1485034439574201,\n",
              " 0.1477019411396368,\n",
              " 0.14654978083907322,\n",
              " 0.1453475266123982]"
            ]
          },
          "metadata": {},
          "execution_count": 93
        }
      ]
    },
    {
      "cell_type": "code",
      "source": [
        "# demonstrate prediction for next 10 days\n",
        "from numpy import array\n",
        "\n",
        "lst_output=[]\n",
        "n_steps=100\n",
        "i=0\n",
        "while(i<30):\n",
        "    \n",
        "    if(len(temp_input)>100):\n",
        "        #print(temp_input)\n",
        "        x_input=np.array(temp_input[1:])\n",
        "        print(\"{} day input {}\".format(i,x_input))\n",
        "        x_input=x_input.reshape(1,-1)\n",
        "        x_input = x_input.reshape((1, n_steps, 1))\n",
        "        #print(x_input)\n",
        "        yhat = model.predict(x_input, verbose=0)\n",
        "        print(\"{} day output {}\".format(i,yhat))\n",
        "        temp_input.extend(yhat[0].tolist())\n",
        "        temp_input=temp_input[1:]\n",
        "        #print(temp_input)\n",
        "        lst_output.extend(yhat.tolist())\n",
        "        i=i+1\n",
        "    else:\n",
        "        x_input = x_input.reshape((1, n_steps,1))\n",
        "        yhat = model.predict(x_input, verbose=0)\n",
        "        print(yhat[0])\n",
        "        temp_input.extend(yhat[0].tolist())\n",
        "        print(len(temp_input))\n",
        "        lst_output.extend(yhat.tolist())\n",
        "        i=i+1\n",
        "\n",
        "print(lst_output)\n"
      ],
      "metadata": {
        "colab": {
          "base_uri": "https://localhost:8080/"
        },
        "id": "3JBPVknDbdMT",
        "outputId": "04d27586-5f29-4356-b52c-b9b6f2adf5ee"
      },
      "execution_count": 94,
      "outputs": [
        {
          "output_type": "stream",
          "name": "stdout",
          "text": [
            "[0.12885274]\n",
            "101\n",
            "1 day input [0.13470257 0.14311835 0.14662492 0.15524108 0.1587226  0.16839073\n",
            " 0.17001879 0.17222292 0.1806387  0.17765811 0.16974327 0.16899186\n",
            " 0.17933626 0.17087038 0.16278021 0.16355667 0.15842204 0.14755166\n",
            " 0.15233563 0.1591985  0.1463995  0.14584847 0.15168441 0.15125861\n",
            " 0.14922981 0.13763306 0.14036318 0.12513463 0.12455855 0.14226675\n",
            " 0.12726362 0.12804008 0.13184721 0.14822793 0.12505949 0.12633688\n",
            " 0.11326237 0.11939887 0.09933626 0.08946775 0.10086412 0.09693175\n",
            " 0.10619912 0.08510958 0.07641828 0.07701941 0.09084534 0.08395742\n",
            " 0.08435817 0.09252348 0.107201   0.10519724 0.10487163 0.11113338\n",
            " 0.096531   0.09843456 0.10487163 0.10299311 0.08966813 0.07586725\n",
            " 0.0627176  0.06492173 0.07160927 0.05815905 0.06191609 0.07271133\n",
            " 0.07140889 0.0787226  0.08721353 0.08721353 0.07664371 0.08112711\n",
            " 0.07484033 0.0803757  0.08696306 0.09036944 0.09896055 0.10068879\n",
            " 0.0952536  0.09773325 0.09680651 0.10427051 0.10852849 0.10076393\n",
            " 0.11060739 0.11571697 0.12150282 0.1183469  0.11549155 0.11211021\n",
            " 0.12510958 0.12651221 0.13943644 0.13693175 0.1331747  0.14850344\n",
            " 0.14770194 0.14654978 0.14534753 0.12885274]\n",
            "1 day output [[0.13091663]]\n",
            "2 day input [0.14311835 0.14662492 0.15524108 0.1587226  0.16839073 0.17001879\n",
            " 0.17222292 0.1806387  0.17765811 0.16974327 0.16899186 0.17933626\n",
            " 0.17087038 0.16278021 0.16355667 0.15842204 0.14755166 0.15233563\n",
            " 0.1591985  0.1463995  0.14584847 0.15168441 0.15125861 0.14922981\n",
            " 0.13763306 0.14036318 0.12513463 0.12455855 0.14226675 0.12726362\n",
            " 0.12804008 0.13184721 0.14822793 0.12505949 0.12633688 0.11326237\n",
            " 0.11939887 0.09933626 0.08946775 0.10086412 0.09693175 0.10619912\n",
            " 0.08510958 0.07641828 0.07701941 0.09084534 0.08395742 0.08435817\n",
            " 0.09252348 0.107201   0.10519724 0.10487163 0.11113338 0.096531\n",
            " 0.09843456 0.10487163 0.10299311 0.08966813 0.07586725 0.0627176\n",
            " 0.06492173 0.07160927 0.05815905 0.06191609 0.07271133 0.07140889\n",
            " 0.0787226  0.08721353 0.08721353 0.07664371 0.08112711 0.07484033\n",
            " 0.0803757  0.08696306 0.09036944 0.09896055 0.10068879 0.0952536\n",
            " 0.09773325 0.09680651 0.10427051 0.10852849 0.10076393 0.11060739\n",
            " 0.11571697 0.12150282 0.1183469  0.11549155 0.11211021 0.12510958\n",
            " 0.12651221 0.13943644 0.13693175 0.1331747  0.14850344 0.14770194\n",
            " 0.14654978 0.14534753 0.12885274 0.13091663]\n",
            "2 day output [[0.13200676]]\n",
            "3 day input [0.14662492 0.15524108 0.1587226  0.16839073 0.17001879 0.17222292\n",
            " 0.1806387  0.17765811 0.16974327 0.16899186 0.17933626 0.17087038\n",
            " 0.16278021 0.16355667 0.15842204 0.14755166 0.15233563 0.1591985\n",
            " 0.1463995  0.14584847 0.15168441 0.15125861 0.14922981 0.13763306\n",
            " 0.14036318 0.12513463 0.12455855 0.14226675 0.12726362 0.12804008\n",
            " 0.13184721 0.14822793 0.12505949 0.12633688 0.11326237 0.11939887\n",
            " 0.09933626 0.08946775 0.10086412 0.09693175 0.10619912 0.08510958\n",
            " 0.07641828 0.07701941 0.09084534 0.08395742 0.08435817 0.09252348\n",
            " 0.107201   0.10519724 0.10487163 0.11113338 0.096531   0.09843456\n",
            " 0.10487163 0.10299311 0.08966813 0.07586725 0.0627176  0.06492173\n",
            " 0.07160927 0.05815905 0.06191609 0.07271133 0.07140889 0.0787226\n",
            " 0.08721353 0.08721353 0.07664371 0.08112711 0.07484033 0.0803757\n",
            " 0.08696306 0.09036944 0.09896055 0.10068879 0.0952536  0.09773325\n",
            " 0.09680651 0.10427051 0.10852849 0.10076393 0.11060739 0.11571697\n",
            " 0.12150282 0.1183469  0.11549155 0.11211021 0.12510958 0.12651221\n",
            " 0.13943644 0.13693175 0.1331747  0.14850344 0.14770194 0.14654978\n",
            " 0.14534753 0.12885274 0.13091663 0.13200676]\n",
            "3 day output [[0.13235106]]\n",
            "4 day input [0.15524108 0.1587226  0.16839073 0.17001879 0.17222292 0.1806387\n",
            " 0.17765811 0.16974327 0.16899186 0.17933626 0.17087038 0.16278021\n",
            " 0.16355667 0.15842204 0.14755166 0.15233563 0.1591985  0.1463995\n",
            " 0.14584847 0.15168441 0.15125861 0.14922981 0.13763306 0.14036318\n",
            " 0.12513463 0.12455855 0.14226675 0.12726362 0.12804008 0.13184721\n",
            " 0.14822793 0.12505949 0.12633688 0.11326237 0.11939887 0.09933626\n",
            " 0.08946775 0.10086412 0.09693175 0.10619912 0.08510958 0.07641828\n",
            " 0.07701941 0.09084534 0.08395742 0.08435817 0.09252348 0.107201\n",
            " 0.10519724 0.10487163 0.11113338 0.096531   0.09843456 0.10487163\n",
            " 0.10299311 0.08966813 0.07586725 0.0627176  0.06492173 0.07160927\n",
            " 0.05815905 0.06191609 0.07271133 0.07140889 0.0787226  0.08721353\n",
            " 0.08721353 0.07664371 0.08112711 0.07484033 0.0803757  0.08696306\n",
            " 0.09036944 0.09896055 0.10068879 0.0952536  0.09773325 0.09680651\n",
            " 0.10427051 0.10852849 0.10076393 0.11060739 0.11571697 0.12150282\n",
            " 0.1183469  0.11549155 0.11211021 0.12510958 0.12651221 0.13943644\n",
            " 0.13693175 0.1331747  0.14850344 0.14770194 0.14654978 0.14534753\n",
            " 0.12885274 0.13091663 0.13200676 0.13235106]\n",
            "4 day output [[0.13219143]]\n",
            "5 day input [0.1587226  0.16839073 0.17001879 0.17222292 0.1806387  0.17765811\n",
            " 0.16974327 0.16899186 0.17933626 0.17087038 0.16278021 0.16355667\n",
            " 0.15842204 0.14755166 0.15233563 0.1591985  0.1463995  0.14584847\n",
            " 0.15168441 0.15125861 0.14922981 0.13763306 0.14036318 0.12513463\n",
            " 0.12455855 0.14226675 0.12726362 0.12804008 0.13184721 0.14822793\n",
            " 0.12505949 0.12633688 0.11326237 0.11939887 0.09933626 0.08946775\n",
            " 0.10086412 0.09693175 0.10619912 0.08510958 0.07641828 0.07701941\n",
            " 0.09084534 0.08395742 0.08435817 0.09252348 0.107201   0.10519724\n",
            " 0.10487163 0.11113338 0.096531   0.09843456 0.10487163 0.10299311\n",
            " 0.08966813 0.07586725 0.0627176  0.06492173 0.07160927 0.05815905\n",
            " 0.06191609 0.07271133 0.07140889 0.0787226  0.08721353 0.08721353\n",
            " 0.07664371 0.08112711 0.07484033 0.0803757  0.08696306 0.09036944\n",
            " 0.09896055 0.10068879 0.0952536  0.09773325 0.09680651 0.10427051\n",
            " 0.10852849 0.10076393 0.11060739 0.11571697 0.12150282 0.1183469\n",
            " 0.11549155 0.11211021 0.12510958 0.12651221 0.13943644 0.13693175\n",
            " 0.1331747  0.14850344 0.14770194 0.14654978 0.14534753 0.12885274\n",
            " 0.13091663 0.13200676 0.13235106 0.13219143]\n",
            "5 day output [[0.13171662]]\n",
            "6 day input [0.16839073 0.17001879 0.17222292 0.1806387  0.17765811 0.16974327\n",
            " 0.16899186 0.17933626 0.17087038 0.16278021 0.16355667 0.15842204\n",
            " 0.14755166 0.15233563 0.1591985  0.1463995  0.14584847 0.15168441\n",
            " 0.15125861 0.14922981 0.13763306 0.14036318 0.12513463 0.12455855\n",
            " 0.14226675 0.12726362 0.12804008 0.13184721 0.14822793 0.12505949\n",
            " 0.12633688 0.11326237 0.11939887 0.09933626 0.08946775 0.10086412\n",
            " 0.09693175 0.10619912 0.08510958 0.07641828 0.07701941 0.09084534\n",
            " 0.08395742 0.08435817 0.09252348 0.107201   0.10519724 0.10487163\n",
            " 0.11113338 0.096531   0.09843456 0.10487163 0.10299311 0.08966813\n",
            " 0.07586725 0.0627176  0.06492173 0.07160927 0.05815905 0.06191609\n",
            " 0.07271133 0.07140889 0.0787226  0.08721353 0.08721353 0.07664371\n",
            " 0.08112711 0.07484033 0.0803757  0.08696306 0.09036944 0.09896055\n",
            " 0.10068879 0.0952536  0.09773325 0.09680651 0.10427051 0.10852849\n",
            " 0.10076393 0.11060739 0.11571697 0.12150282 0.1183469  0.11549155\n",
            " 0.11211021 0.12510958 0.12651221 0.13943644 0.13693175 0.1331747\n",
            " 0.14850344 0.14770194 0.14654978 0.14534753 0.12885274 0.13091663\n",
            " 0.13200676 0.13235106 0.13219143 0.13171662]\n",
            "6 day output [[0.13105479]]\n",
            "7 day input [0.17001879 0.17222292 0.1806387  0.17765811 0.16974327 0.16899186\n",
            " 0.17933626 0.17087038 0.16278021 0.16355667 0.15842204 0.14755166\n",
            " 0.15233563 0.1591985  0.1463995  0.14584847 0.15168441 0.15125861\n",
            " 0.14922981 0.13763306 0.14036318 0.12513463 0.12455855 0.14226675\n",
            " 0.12726362 0.12804008 0.13184721 0.14822793 0.12505949 0.12633688\n",
            " 0.11326237 0.11939887 0.09933626 0.08946775 0.10086412 0.09693175\n",
            " 0.10619912 0.08510958 0.07641828 0.07701941 0.09084534 0.08395742\n",
            " 0.08435817 0.09252348 0.107201   0.10519724 0.10487163 0.11113338\n",
            " 0.096531   0.09843456 0.10487163 0.10299311 0.08966813 0.07586725\n",
            " 0.0627176  0.06492173 0.07160927 0.05815905 0.06191609 0.07271133\n",
            " 0.07140889 0.0787226  0.08721353 0.08721353 0.07664371 0.08112711\n",
            " 0.07484033 0.0803757  0.08696306 0.09036944 0.09896055 0.10068879\n",
            " 0.0952536  0.09773325 0.09680651 0.10427051 0.10852849 0.10076393\n",
            " 0.11060739 0.11571697 0.12150282 0.1183469  0.11549155 0.11211021\n",
            " 0.12510958 0.12651221 0.13943644 0.13693175 0.1331747  0.14850344\n",
            " 0.14770194 0.14654978 0.14534753 0.12885274 0.13091663 0.13200676\n",
            " 0.13235106 0.13219143 0.13171662 0.13105479]\n",
            "7 day output [[0.13028671]]\n",
            "8 day input [0.17222292 0.1806387  0.17765811 0.16974327 0.16899186 0.17933626\n",
            " 0.17087038 0.16278021 0.16355667 0.15842204 0.14755166 0.15233563\n",
            " 0.1591985  0.1463995  0.14584847 0.15168441 0.15125861 0.14922981\n",
            " 0.13763306 0.14036318 0.12513463 0.12455855 0.14226675 0.12726362\n",
            " 0.12804008 0.13184721 0.14822793 0.12505949 0.12633688 0.11326237\n",
            " 0.11939887 0.09933626 0.08946775 0.10086412 0.09693175 0.10619912\n",
            " 0.08510958 0.07641828 0.07701941 0.09084534 0.08395742 0.08435817\n",
            " 0.09252348 0.107201   0.10519724 0.10487163 0.11113338 0.096531\n",
            " 0.09843456 0.10487163 0.10299311 0.08966813 0.07586725 0.0627176\n",
            " 0.06492173 0.07160927 0.05815905 0.06191609 0.07271133 0.07140889\n",
            " 0.0787226  0.08721353 0.08721353 0.07664371 0.08112711 0.07484033\n",
            " 0.0803757  0.08696306 0.09036944 0.09896055 0.10068879 0.0952536\n",
            " 0.09773325 0.09680651 0.10427051 0.10852849 0.10076393 0.11060739\n",
            " 0.11571697 0.12150282 0.1183469  0.11549155 0.11211021 0.12510958\n",
            " 0.12651221 0.13943644 0.13693175 0.1331747  0.14850344 0.14770194\n",
            " 0.14654978 0.14534753 0.12885274 0.13091663 0.13200676 0.13235106\n",
            " 0.13219143 0.13171662 0.13105479 0.13028671]\n",
            "8 day output [[0.12946115]]\n",
            "9 day input [0.1806387  0.17765811 0.16974327 0.16899186 0.17933626 0.17087038\n",
            " 0.16278021 0.16355667 0.15842204 0.14755166 0.15233563 0.1591985\n",
            " 0.1463995  0.14584847 0.15168441 0.15125861 0.14922981 0.13763306\n",
            " 0.14036318 0.12513463 0.12455855 0.14226675 0.12726362 0.12804008\n",
            " 0.13184721 0.14822793 0.12505949 0.12633688 0.11326237 0.11939887\n",
            " 0.09933626 0.08946775 0.10086412 0.09693175 0.10619912 0.08510958\n",
            " 0.07641828 0.07701941 0.09084534 0.08395742 0.08435817 0.09252348\n",
            " 0.107201   0.10519724 0.10487163 0.11113338 0.096531   0.09843456\n",
            " 0.10487163 0.10299311 0.08966813 0.07586725 0.0627176  0.06492173\n",
            " 0.07160927 0.05815905 0.06191609 0.07271133 0.07140889 0.0787226\n",
            " 0.08721353 0.08721353 0.07664371 0.08112711 0.07484033 0.0803757\n",
            " 0.08696306 0.09036944 0.09896055 0.10068879 0.0952536  0.09773325\n",
            " 0.09680651 0.10427051 0.10852849 0.10076393 0.11060739 0.11571697\n",
            " 0.12150282 0.1183469  0.11549155 0.11211021 0.12510958 0.12651221\n",
            " 0.13943644 0.13693175 0.1331747  0.14850344 0.14770194 0.14654978\n",
            " 0.14534753 0.12885274 0.13091663 0.13200676 0.13235106 0.13219143\n",
            " 0.13171662 0.13105479 0.13028671 0.12946115]\n",
            "9 day output [[0.12860718]]\n",
            "10 day input [0.17765811 0.16974327 0.16899186 0.17933626 0.17087038 0.16278021\n",
            " 0.16355667 0.15842204 0.14755166 0.15233563 0.1591985  0.1463995\n",
            " 0.14584847 0.15168441 0.15125861 0.14922981 0.13763306 0.14036318\n",
            " 0.12513463 0.12455855 0.14226675 0.12726362 0.12804008 0.13184721\n",
            " 0.14822793 0.12505949 0.12633688 0.11326237 0.11939887 0.09933626\n",
            " 0.08946775 0.10086412 0.09693175 0.10619912 0.08510958 0.07641828\n",
            " 0.07701941 0.09084534 0.08395742 0.08435817 0.09252348 0.107201\n",
            " 0.10519724 0.10487163 0.11113338 0.096531   0.09843456 0.10487163\n",
            " 0.10299311 0.08966813 0.07586725 0.0627176  0.06492173 0.07160927\n",
            " 0.05815905 0.06191609 0.07271133 0.07140889 0.0787226  0.08721353\n",
            " 0.08721353 0.07664371 0.08112711 0.07484033 0.0803757  0.08696306\n",
            " 0.09036944 0.09896055 0.10068879 0.0952536  0.09773325 0.09680651\n",
            " 0.10427051 0.10852849 0.10076393 0.11060739 0.11571697 0.12150282\n",
            " 0.1183469  0.11549155 0.11211021 0.12510958 0.12651221 0.13943644\n",
            " 0.13693175 0.1331747  0.14850344 0.14770194 0.14654978 0.14534753\n",
            " 0.12885274 0.13091663 0.13200676 0.13235106 0.13219143 0.13171662\n",
            " 0.13105479 0.13028671 0.12946115 0.12860718]\n",
            "10 day output [[0.1277423]]\n",
            "11 day input [0.16974327 0.16899186 0.17933626 0.17087038 0.16278021 0.16355667\n",
            " 0.15842204 0.14755166 0.15233563 0.1591985  0.1463995  0.14584847\n",
            " 0.15168441 0.15125861 0.14922981 0.13763306 0.14036318 0.12513463\n",
            " 0.12455855 0.14226675 0.12726362 0.12804008 0.13184721 0.14822793\n",
            " 0.12505949 0.12633688 0.11326237 0.11939887 0.09933626 0.08946775\n",
            " 0.10086412 0.09693175 0.10619912 0.08510958 0.07641828 0.07701941\n",
            " 0.09084534 0.08395742 0.08435817 0.09252348 0.107201   0.10519724\n",
            " 0.10487163 0.11113338 0.096531   0.09843456 0.10487163 0.10299311\n",
            " 0.08966813 0.07586725 0.0627176  0.06492173 0.07160927 0.05815905\n",
            " 0.06191609 0.07271133 0.07140889 0.0787226  0.08721353 0.08721353\n",
            " 0.07664371 0.08112711 0.07484033 0.0803757  0.08696306 0.09036944\n",
            " 0.09896055 0.10068879 0.0952536  0.09773325 0.09680651 0.10427051\n",
            " 0.10852849 0.10076393 0.11060739 0.11571697 0.12150282 0.1183469\n",
            " 0.11549155 0.11211021 0.12510958 0.12651221 0.13943644 0.13693175\n",
            " 0.1331747  0.14850344 0.14770194 0.14654978 0.14534753 0.12885274\n",
            " 0.13091663 0.13200676 0.13235106 0.13219143 0.13171662 0.13105479\n",
            " 0.13028671 0.12946115 0.12860718 0.12774231]\n",
            "11 day output [[0.12687738]]\n",
            "12 day input [0.16899186 0.17933626 0.17087038 0.16278021 0.16355667 0.15842204\n",
            " 0.14755166 0.15233563 0.1591985  0.1463995  0.14584847 0.15168441\n",
            " 0.15125861 0.14922981 0.13763306 0.14036318 0.12513463 0.12455855\n",
            " 0.14226675 0.12726362 0.12804008 0.13184721 0.14822793 0.12505949\n",
            " 0.12633688 0.11326237 0.11939887 0.09933626 0.08946775 0.10086412\n",
            " 0.09693175 0.10619912 0.08510958 0.07641828 0.07701941 0.09084534\n",
            " 0.08395742 0.08435817 0.09252348 0.107201   0.10519724 0.10487163\n",
            " 0.11113338 0.096531   0.09843456 0.10487163 0.10299311 0.08966813\n",
            " 0.07586725 0.0627176  0.06492173 0.07160927 0.05815905 0.06191609\n",
            " 0.07271133 0.07140889 0.0787226  0.08721353 0.08721353 0.07664371\n",
            " 0.08112711 0.07484033 0.0803757  0.08696306 0.09036944 0.09896055\n",
            " 0.10068879 0.0952536  0.09773325 0.09680651 0.10427051 0.10852849\n",
            " 0.10076393 0.11060739 0.11571697 0.12150282 0.1183469  0.11549155\n",
            " 0.11211021 0.12510958 0.12651221 0.13943644 0.13693175 0.1331747\n",
            " 0.14850344 0.14770194 0.14654978 0.14534753 0.12885274 0.13091663\n",
            " 0.13200676 0.13235106 0.13219143 0.13171662 0.13105479 0.13028671\n",
            " 0.12946115 0.12860718 0.12774231 0.12687738]\n",
            "12 day output [[0.12601897]]\n",
            "13 day input [0.17933626 0.17087038 0.16278021 0.16355667 0.15842204 0.14755166\n",
            " 0.15233563 0.1591985  0.1463995  0.14584847 0.15168441 0.15125861\n",
            " 0.14922981 0.13763306 0.14036318 0.12513463 0.12455855 0.14226675\n",
            " 0.12726362 0.12804008 0.13184721 0.14822793 0.12505949 0.12633688\n",
            " 0.11326237 0.11939887 0.09933626 0.08946775 0.10086412 0.09693175\n",
            " 0.10619912 0.08510958 0.07641828 0.07701941 0.09084534 0.08395742\n",
            " 0.08435817 0.09252348 0.107201   0.10519724 0.10487163 0.11113338\n",
            " 0.096531   0.09843456 0.10487163 0.10299311 0.08966813 0.07586725\n",
            " 0.0627176  0.06492173 0.07160927 0.05815905 0.06191609 0.07271133\n",
            " 0.07140889 0.0787226  0.08721353 0.08721353 0.07664371 0.08112711\n",
            " 0.07484033 0.0803757  0.08696306 0.09036944 0.09896055 0.10068879\n",
            " 0.0952536  0.09773325 0.09680651 0.10427051 0.10852849 0.10076393\n",
            " 0.11060739 0.11571697 0.12150282 0.1183469  0.11549155 0.11211021\n",
            " 0.12510958 0.12651221 0.13943644 0.13693175 0.1331747  0.14850344\n",
            " 0.14770194 0.14654978 0.14534753 0.12885274 0.13091663 0.13200676\n",
            " 0.13235106 0.13219143 0.13171662 0.13105479 0.13028671 0.12946115\n",
            " 0.12860718 0.12774231 0.12687738 0.12601897]\n",
            "13 day output [[0.12517086]]\n",
            "14 day input [0.17087038 0.16278021 0.16355667 0.15842204 0.14755166 0.15233563\n",
            " 0.1591985  0.1463995  0.14584847 0.15168441 0.15125861 0.14922981\n",
            " 0.13763306 0.14036318 0.12513463 0.12455855 0.14226675 0.12726362\n",
            " 0.12804008 0.13184721 0.14822793 0.12505949 0.12633688 0.11326237\n",
            " 0.11939887 0.09933626 0.08946775 0.10086412 0.09693175 0.10619912\n",
            " 0.08510958 0.07641828 0.07701941 0.09084534 0.08395742 0.08435817\n",
            " 0.09252348 0.107201   0.10519724 0.10487163 0.11113338 0.096531\n",
            " 0.09843456 0.10487163 0.10299311 0.08966813 0.07586725 0.0627176\n",
            " 0.06492173 0.07160927 0.05815905 0.06191609 0.07271133 0.07140889\n",
            " 0.0787226  0.08721353 0.08721353 0.07664371 0.08112711 0.07484033\n",
            " 0.0803757  0.08696306 0.09036944 0.09896055 0.10068879 0.0952536\n",
            " 0.09773325 0.09680651 0.10427051 0.10852849 0.10076393 0.11060739\n",
            " 0.11571697 0.12150282 0.1183469  0.11549155 0.11211021 0.12510958\n",
            " 0.12651221 0.13943644 0.13693175 0.1331747  0.14850344 0.14770194\n",
            " 0.14654978 0.14534753 0.12885274 0.13091663 0.13200676 0.13235106\n",
            " 0.13219143 0.13171662 0.13105479 0.13028671 0.12946115 0.12860718\n",
            " 0.12774231 0.12687738 0.12601897 0.12517086]\n",
            "14 day output [[0.12433483]]\n",
            "15 day input [0.16278021 0.16355667 0.15842204 0.14755166 0.15233563 0.1591985\n",
            " 0.1463995  0.14584847 0.15168441 0.15125861 0.14922981 0.13763306\n",
            " 0.14036318 0.12513463 0.12455855 0.14226675 0.12726362 0.12804008\n",
            " 0.13184721 0.14822793 0.12505949 0.12633688 0.11326237 0.11939887\n",
            " 0.09933626 0.08946775 0.10086412 0.09693175 0.10619912 0.08510958\n",
            " 0.07641828 0.07701941 0.09084534 0.08395742 0.08435817 0.09252348\n",
            " 0.107201   0.10519724 0.10487163 0.11113338 0.096531   0.09843456\n",
            " 0.10487163 0.10299311 0.08966813 0.07586725 0.0627176  0.06492173\n",
            " 0.07160927 0.05815905 0.06191609 0.07271133 0.07140889 0.0787226\n",
            " 0.08721353 0.08721353 0.07664371 0.08112711 0.07484033 0.0803757\n",
            " 0.08696306 0.09036944 0.09896055 0.10068879 0.0952536  0.09773325\n",
            " 0.09680651 0.10427051 0.10852849 0.10076393 0.11060739 0.11571697\n",
            " 0.12150282 0.1183469  0.11549155 0.11211021 0.12510958 0.12651221\n",
            " 0.13943644 0.13693175 0.1331747  0.14850344 0.14770194 0.14654978\n",
            " 0.14534753 0.12885274 0.13091663 0.13200676 0.13235106 0.13219143\n",
            " 0.13171662 0.13105479 0.13028671 0.12946115 0.12860718 0.12774231\n",
            " 0.12687738 0.12601897 0.12517086 0.12433483]\n",
            "15 day output [[0.12351108]]\n",
            "16 day input [0.16355667 0.15842204 0.14755166 0.15233563 0.1591985  0.1463995\n",
            " 0.14584847 0.15168441 0.15125861 0.14922981 0.13763306 0.14036318\n",
            " 0.12513463 0.12455855 0.14226675 0.12726362 0.12804008 0.13184721\n",
            " 0.14822793 0.12505949 0.12633688 0.11326237 0.11939887 0.09933626\n",
            " 0.08946775 0.10086412 0.09693175 0.10619912 0.08510958 0.07641828\n",
            " 0.07701941 0.09084534 0.08395742 0.08435817 0.09252348 0.107201\n",
            " 0.10519724 0.10487163 0.11113338 0.096531   0.09843456 0.10487163\n",
            " 0.10299311 0.08966813 0.07586725 0.0627176  0.06492173 0.07160927\n",
            " 0.05815905 0.06191609 0.07271133 0.07140889 0.0787226  0.08721353\n",
            " 0.08721353 0.07664371 0.08112711 0.07484033 0.0803757  0.08696306\n",
            " 0.09036944 0.09896055 0.10068879 0.0952536  0.09773325 0.09680651\n",
            " 0.10427051 0.10852849 0.10076393 0.11060739 0.11571697 0.12150282\n",
            " 0.1183469  0.11549155 0.11211021 0.12510958 0.12651221 0.13943644\n",
            " 0.13693175 0.1331747  0.14850344 0.14770194 0.14654978 0.14534753\n",
            " 0.12885274 0.13091663 0.13200676 0.13235106 0.13219143 0.13171662\n",
            " 0.13105479 0.13028671 0.12946115 0.12860718 0.12774231 0.12687738\n",
            " 0.12601897 0.12517086 0.12433483 0.12351108]\n",
            "16 day output [[0.1226987]]\n",
            "17 day input [0.15842204 0.14755166 0.15233563 0.1591985  0.1463995  0.14584847\n",
            " 0.15168441 0.15125861 0.14922981 0.13763306 0.14036318 0.12513463\n",
            " 0.12455855 0.14226675 0.12726362 0.12804008 0.13184721 0.14822793\n",
            " 0.12505949 0.12633688 0.11326237 0.11939887 0.09933626 0.08946775\n",
            " 0.10086412 0.09693175 0.10619912 0.08510958 0.07641828 0.07701941\n",
            " 0.09084534 0.08395742 0.08435817 0.09252348 0.107201   0.10519724\n",
            " 0.10487163 0.11113338 0.096531   0.09843456 0.10487163 0.10299311\n",
            " 0.08966813 0.07586725 0.0627176  0.06492173 0.07160927 0.05815905\n",
            " 0.06191609 0.07271133 0.07140889 0.0787226  0.08721353 0.08721353\n",
            " 0.07664371 0.08112711 0.07484033 0.0803757  0.08696306 0.09036944\n",
            " 0.09896055 0.10068879 0.0952536  0.09773325 0.09680651 0.10427051\n",
            " 0.10852849 0.10076393 0.11060739 0.11571697 0.12150282 0.1183469\n",
            " 0.11549155 0.11211021 0.12510958 0.12651221 0.13943644 0.13693175\n",
            " 0.1331747  0.14850344 0.14770194 0.14654978 0.14534753 0.12885274\n",
            " 0.13091663 0.13200676 0.13235106 0.13219143 0.13171662 0.13105479\n",
            " 0.13028671 0.12946115 0.12860718 0.12774231 0.12687738 0.12601897\n",
            " 0.12517086 0.12433483 0.12351108 0.1226987 ]\n",
            "17 day output [[0.12189584]]\n",
            "18 day input [0.14755166 0.15233563 0.1591985  0.1463995  0.14584847 0.15168441\n",
            " 0.15125861 0.14922981 0.13763306 0.14036318 0.12513463 0.12455855\n",
            " 0.14226675 0.12726362 0.12804008 0.13184721 0.14822793 0.12505949\n",
            " 0.12633688 0.11326237 0.11939887 0.09933626 0.08946775 0.10086412\n",
            " 0.09693175 0.10619912 0.08510958 0.07641828 0.07701941 0.09084534\n",
            " 0.08395742 0.08435817 0.09252348 0.107201   0.10519724 0.10487163\n",
            " 0.11113338 0.096531   0.09843456 0.10487163 0.10299311 0.08966813\n",
            " 0.07586725 0.0627176  0.06492173 0.07160927 0.05815905 0.06191609\n",
            " 0.07271133 0.07140889 0.0787226  0.08721353 0.08721353 0.07664371\n",
            " 0.08112711 0.07484033 0.0803757  0.08696306 0.09036944 0.09896055\n",
            " 0.10068879 0.0952536  0.09773325 0.09680651 0.10427051 0.10852849\n",
            " 0.10076393 0.11060739 0.11571697 0.12150282 0.1183469  0.11549155\n",
            " 0.11211021 0.12510958 0.12651221 0.13943644 0.13693175 0.1331747\n",
            " 0.14850344 0.14770194 0.14654978 0.14534753 0.12885274 0.13091663\n",
            " 0.13200676 0.13235106 0.13219143 0.13171662 0.13105479 0.13028671\n",
            " 0.12946115 0.12860718 0.12774231 0.12687738 0.12601897 0.12517086\n",
            " 0.12433483 0.12351108 0.1226987  0.12189584]\n",
            "18 day output [[0.12110028]]\n",
            "19 day input [0.15233563 0.1591985  0.1463995  0.14584847 0.15168441 0.15125861\n",
            " 0.14922981 0.13763306 0.14036318 0.12513463 0.12455855 0.14226675\n",
            " 0.12726362 0.12804008 0.13184721 0.14822793 0.12505949 0.12633688\n",
            " 0.11326237 0.11939887 0.09933626 0.08946775 0.10086412 0.09693175\n",
            " 0.10619912 0.08510958 0.07641828 0.07701941 0.09084534 0.08395742\n",
            " 0.08435817 0.09252348 0.107201   0.10519724 0.10487163 0.11113338\n",
            " 0.096531   0.09843456 0.10487163 0.10299311 0.08966813 0.07586725\n",
            " 0.0627176  0.06492173 0.07160927 0.05815905 0.06191609 0.07271133\n",
            " 0.07140889 0.0787226  0.08721353 0.08721353 0.07664371 0.08112711\n",
            " 0.07484033 0.0803757  0.08696306 0.09036944 0.09896055 0.10068879\n",
            " 0.0952536  0.09773325 0.09680651 0.10427051 0.10852849 0.10076393\n",
            " 0.11060739 0.11571697 0.12150282 0.1183469  0.11549155 0.11211021\n",
            " 0.12510958 0.12651221 0.13943644 0.13693175 0.1331747  0.14850344\n",
            " 0.14770194 0.14654978 0.14534753 0.12885274 0.13091663 0.13200676\n",
            " 0.13235106 0.13219143 0.13171662 0.13105479 0.13028671 0.12946115\n",
            " 0.12860718 0.12774231 0.12687738 0.12601897 0.12517086 0.12433483\n",
            " 0.12351108 0.1226987  0.12189584 0.12110028]\n",
            "19 day output [[0.12030941]]\n",
            "20 day input [0.1591985  0.1463995  0.14584847 0.15168441 0.15125861 0.14922981\n",
            " 0.13763306 0.14036318 0.12513463 0.12455855 0.14226675 0.12726362\n",
            " 0.12804008 0.13184721 0.14822793 0.12505949 0.12633688 0.11326237\n",
            " 0.11939887 0.09933626 0.08946775 0.10086412 0.09693175 0.10619912\n",
            " 0.08510958 0.07641828 0.07701941 0.09084534 0.08395742 0.08435817\n",
            " 0.09252348 0.107201   0.10519724 0.10487163 0.11113338 0.096531\n",
            " 0.09843456 0.10487163 0.10299311 0.08966813 0.07586725 0.0627176\n",
            " 0.06492173 0.07160927 0.05815905 0.06191609 0.07271133 0.07140889\n",
            " 0.0787226  0.08721353 0.08721353 0.07664371 0.08112711 0.07484033\n",
            " 0.0803757  0.08696306 0.09036944 0.09896055 0.10068879 0.0952536\n",
            " 0.09773325 0.09680651 0.10427051 0.10852849 0.10076393 0.11060739\n",
            " 0.11571697 0.12150282 0.1183469  0.11549155 0.11211021 0.12510958\n",
            " 0.12651221 0.13943644 0.13693175 0.1331747  0.14850344 0.14770194\n",
            " 0.14654978 0.14534753 0.12885274 0.13091663 0.13200676 0.13235106\n",
            " 0.13219143 0.13171662 0.13105479 0.13028671 0.12946115 0.12860718\n",
            " 0.12774231 0.12687738 0.12601897 0.12517086 0.12433483 0.12351108\n",
            " 0.1226987  0.12189584 0.12110028 0.12030941]\n",
            "20 day output [[0.11952083]]\n",
            "21 day input [0.1463995  0.14584847 0.15168441 0.15125861 0.14922981 0.13763306\n",
            " 0.14036318 0.12513463 0.12455855 0.14226675 0.12726362 0.12804008\n",
            " 0.13184721 0.14822793 0.12505949 0.12633688 0.11326237 0.11939887\n",
            " 0.09933626 0.08946775 0.10086412 0.09693175 0.10619912 0.08510958\n",
            " 0.07641828 0.07701941 0.09084534 0.08395742 0.08435817 0.09252348\n",
            " 0.107201   0.10519724 0.10487163 0.11113338 0.096531   0.09843456\n",
            " 0.10487163 0.10299311 0.08966813 0.07586725 0.0627176  0.06492173\n",
            " 0.07160927 0.05815905 0.06191609 0.07271133 0.07140889 0.0787226\n",
            " 0.08721353 0.08721353 0.07664371 0.08112711 0.07484033 0.0803757\n",
            " 0.08696306 0.09036944 0.09896055 0.10068879 0.0952536  0.09773325\n",
            " 0.09680651 0.10427051 0.10852849 0.10076393 0.11060739 0.11571697\n",
            " 0.12150282 0.1183469  0.11549155 0.11211021 0.12510958 0.12651221\n",
            " 0.13943644 0.13693175 0.1331747  0.14850344 0.14770194 0.14654978\n",
            " 0.14534753 0.12885274 0.13091663 0.13200676 0.13235106 0.13219143\n",
            " 0.13171662 0.13105479 0.13028671 0.12946115 0.12860718 0.12774231\n",
            " 0.12687738 0.12601897 0.12517086 0.12433483 0.12351108 0.1226987\n",
            " 0.12189584 0.12110028 0.12030941 0.11952083]\n",
            "21 day output [[0.11873216]]\n",
            "22 day input [0.14584847 0.15168441 0.15125861 0.14922981 0.13763306 0.14036318\n",
            " 0.12513463 0.12455855 0.14226675 0.12726362 0.12804008 0.13184721\n",
            " 0.14822793 0.12505949 0.12633688 0.11326237 0.11939887 0.09933626\n",
            " 0.08946775 0.10086412 0.09693175 0.10619912 0.08510958 0.07641828\n",
            " 0.07701941 0.09084534 0.08395742 0.08435817 0.09252348 0.107201\n",
            " 0.10519724 0.10487163 0.11113338 0.096531   0.09843456 0.10487163\n",
            " 0.10299311 0.08966813 0.07586725 0.0627176  0.06492173 0.07160927\n",
            " 0.05815905 0.06191609 0.07271133 0.07140889 0.0787226  0.08721353\n",
            " 0.08721353 0.07664371 0.08112711 0.07484033 0.0803757  0.08696306\n",
            " 0.09036944 0.09896055 0.10068879 0.0952536  0.09773325 0.09680651\n",
            " 0.10427051 0.10852849 0.10076393 0.11060739 0.11571697 0.12150282\n",
            " 0.1183469  0.11549155 0.11211021 0.12510958 0.12651221 0.13943644\n",
            " 0.13693175 0.1331747  0.14850344 0.14770194 0.14654978 0.14534753\n",
            " 0.12885274 0.13091663 0.13200676 0.13235106 0.13219143 0.13171662\n",
            " 0.13105479 0.13028671 0.12946115 0.12860718 0.12774231 0.12687738\n",
            " 0.12601897 0.12517086 0.12433483 0.12351108 0.1226987  0.12189584\n",
            " 0.12110028 0.12030941 0.11952083 0.11873216]\n",
            "22 day output [[0.11794159]]\n",
            "23 day input [0.15168441 0.15125861 0.14922981 0.13763306 0.14036318 0.12513463\n",
            " 0.12455855 0.14226675 0.12726362 0.12804008 0.13184721 0.14822793\n",
            " 0.12505949 0.12633688 0.11326237 0.11939887 0.09933626 0.08946775\n",
            " 0.10086412 0.09693175 0.10619912 0.08510958 0.07641828 0.07701941\n",
            " 0.09084534 0.08395742 0.08435817 0.09252348 0.107201   0.10519724\n",
            " 0.10487163 0.11113338 0.096531   0.09843456 0.10487163 0.10299311\n",
            " 0.08966813 0.07586725 0.0627176  0.06492173 0.07160927 0.05815905\n",
            " 0.06191609 0.07271133 0.07140889 0.0787226  0.08721353 0.08721353\n",
            " 0.07664371 0.08112711 0.07484033 0.0803757  0.08696306 0.09036944\n",
            " 0.09896055 0.10068879 0.0952536  0.09773325 0.09680651 0.10427051\n",
            " 0.10852849 0.10076393 0.11060739 0.11571697 0.12150282 0.1183469\n",
            " 0.11549155 0.11211021 0.12510958 0.12651221 0.13943644 0.13693175\n",
            " 0.1331747  0.14850344 0.14770194 0.14654978 0.14534753 0.12885274\n",
            " 0.13091663 0.13200676 0.13235106 0.13219143 0.13171662 0.13105479\n",
            " 0.13028671 0.12946115 0.12860718 0.12774231 0.12687738 0.12601897\n",
            " 0.12517086 0.12433483 0.12351108 0.1226987  0.12189584 0.12110028\n",
            " 0.12030941 0.11952083 0.11873216 0.11794159]\n",
            "23 day output [[0.11714755]]\n",
            "24 day input [0.15125861 0.14922981 0.13763306 0.14036318 0.12513463 0.12455855\n",
            " 0.14226675 0.12726362 0.12804008 0.13184721 0.14822793 0.12505949\n",
            " 0.12633688 0.11326237 0.11939887 0.09933626 0.08946775 0.10086412\n",
            " 0.09693175 0.10619912 0.08510958 0.07641828 0.07701941 0.09084534\n",
            " 0.08395742 0.08435817 0.09252348 0.107201   0.10519724 0.10487163\n",
            " 0.11113338 0.096531   0.09843456 0.10487163 0.10299311 0.08966813\n",
            " 0.07586725 0.0627176  0.06492173 0.07160927 0.05815905 0.06191609\n",
            " 0.07271133 0.07140889 0.0787226  0.08721353 0.08721353 0.07664371\n",
            " 0.08112711 0.07484033 0.0803757  0.08696306 0.09036944 0.09896055\n",
            " 0.10068879 0.0952536  0.09773325 0.09680651 0.10427051 0.10852849\n",
            " 0.10076393 0.11060739 0.11571697 0.12150282 0.1183469  0.11549155\n",
            " 0.11211021 0.12510958 0.12651221 0.13943644 0.13693175 0.1331747\n",
            " 0.14850344 0.14770194 0.14654978 0.14534753 0.12885274 0.13091663\n",
            " 0.13200676 0.13235106 0.13219143 0.13171662 0.13105479 0.13028671\n",
            " 0.12946115 0.12860718 0.12774231 0.12687738 0.12601897 0.12517086\n",
            " 0.12433483 0.12351108 0.1226987  0.12189584 0.12110028 0.12030941\n",
            " 0.11952083 0.11873216 0.11794159 0.11714755]\n",
            "24 day output [[0.11634897]]\n",
            "25 day input [0.14922981 0.13763306 0.14036318 0.12513463 0.12455855 0.14226675\n",
            " 0.12726362 0.12804008 0.13184721 0.14822793 0.12505949 0.12633688\n",
            " 0.11326237 0.11939887 0.09933626 0.08946775 0.10086412 0.09693175\n",
            " 0.10619912 0.08510958 0.07641828 0.07701941 0.09084534 0.08395742\n",
            " 0.08435817 0.09252348 0.107201   0.10519724 0.10487163 0.11113338\n",
            " 0.096531   0.09843456 0.10487163 0.10299311 0.08966813 0.07586725\n",
            " 0.0627176  0.06492173 0.07160927 0.05815905 0.06191609 0.07271133\n",
            " 0.07140889 0.0787226  0.08721353 0.08721353 0.07664371 0.08112711\n",
            " 0.07484033 0.0803757  0.08696306 0.09036944 0.09896055 0.10068879\n",
            " 0.0952536  0.09773325 0.09680651 0.10427051 0.10852849 0.10076393\n",
            " 0.11060739 0.11571697 0.12150282 0.1183469  0.11549155 0.11211021\n",
            " 0.12510958 0.12651221 0.13943644 0.13693175 0.1331747  0.14850344\n",
            " 0.14770194 0.14654978 0.14534753 0.12885274 0.13091663 0.13200676\n",
            " 0.13235106 0.13219143 0.13171662 0.13105479 0.13028671 0.12946115\n",
            " 0.12860718 0.12774231 0.12687738 0.12601897 0.12517086 0.12433483\n",
            " 0.12351108 0.1226987  0.12189584 0.12110028 0.12030941 0.11952083\n",
            " 0.11873216 0.11794159 0.11714755 0.11634897]\n",
            "25 day output [[0.11554533]]\n",
            "26 day input [0.13763306 0.14036318 0.12513463 0.12455855 0.14226675 0.12726362\n",
            " 0.12804008 0.13184721 0.14822793 0.12505949 0.12633688 0.11326237\n",
            " 0.11939887 0.09933626 0.08946775 0.10086412 0.09693175 0.10619912\n",
            " 0.08510958 0.07641828 0.07701941 0.09084534 0.08395742 0.08435817\n",
            " 0.09252348 0.107201   0.10519724 0.10487163 0.11113338 0.096531\n",
            " 0.09843456 0.10487163 0.10299311 0.08966813 0.07586725 0.0627176\n",
            " 0.06492173 0.07160927 0.05815905 0.06191609 0.07271133 0.07140889\n",
            " 0.0787226  0.08721353 0.08721353 0.07664371 0.08112711 0.07484033\n",
            " 0.0803757  0.08696306 0.09036944 0.09896055 0.10068879 0.0952536\n",
            " 0.09773325 0.09680651 0.10427051 0.10852849 0.10076393 0.11060739\n",
            " 0.11571697 0.12150282 0.1183469  0.11549155 0.11211021 0.12510958\n",
            " 0.12651221 0.13943644 0.13693175 0.1331747  0.14850344 0.14770194\n",
            " 0.14654978 0.14534753 0.12885274 0.13091663 0.13200676 0.13235106\n",
            " 0.13219143 0.13171662 0.13105479 0.13028671 0.12946115 0.12860718\n",
            " 0.12774231 0.12687738 0.12601897 0.12517086 0.12433483 0.12351108\n",
            " 0.1226987  0.12189584 0.12110028 0.12030941 0.11952083 0.11873216\n",
            " 0.11794159 0.11714755 0.11634897 0.11554533]\n",
            "26 day output [[0.11473645]]\n",
            "27 day input [0.14036318 0.12513463 0.12455855 0.14226675 0.12726362 0.12804008\n",
            " 0.13184721 0.14822793 0.12505949 0.12633688 0.11326237 0.11939887\n",
            " 0.09933626 0.08946775 0.10086412 0.09693175 0.10619912 0.08510958\n",
            " 0.07641828 0.07701941 0.09084534 0.08395742 0.08435817 0.09252348\n",
            " 0.107201   0.10519724 0.10487163 0.11113338 0.096531   0.09843456\n",
            " 0.10487163 0.10299311 0.08966813 0.07586725 0.0627176  0.06492173\n",
            " 0.07160927 0.05815905 0.06191609 0.07271133 0.07140889 0.0787226\n",
            " 0.08721353 0.08721353 0.07664371 0.08112711 0.07484033 0.0803757\n",
            " 0.08696306 0.09036944 0.09896055 0.10068879 0.0952536  0.09773325\n",
            " 0.09680651 0.10427051 0.10852849 0.10076393 0.11060739 0.11571697\n",
            " 0.12150282 0.1183469  0.11549155 0.11211021 0.12510958 0.12651221\n",
            " 0.13943644 0.13693175 0.1331747  0.14850344 0.14770194 0.14654978\n",
            " 0.14534753 0.12885274 0.13091663 0.13200676 0.13235106 0.13219143\n",
            " 0.13171662 0.13105479 0.13028671 0.12946115 0.12860718 0.12774231\n",
            " 0.12687738 0.12601897 0.12517086 0.12433483 0.12351108 0.1226987\n",
            " 0.12189584 0.12110028 0.12030941 0.11952083 0.11873216 0.11794159\n",
            " 0.11714755 0.11634897 0.11554533 0.11473645]\n",
            "27 day output [[0.11392256]]\n",
            "28 day input [0.12513463 0.12455855 0.14226675 0.12726362 0.12804008 0.13184721\n",
            " 0.14822793 0.12505949 0.12633688 0.11326237 0.11939887 0.09933626\n",
            " 0.08946775 0.10086412 0.09693175 0.10619912 0.08510958 0.07641828\n",
            " 0.07701941 0.09084534 0.08395742 0.08435817 0.09252348 0.107201\n",
            " 0.10519724 0.10487163 0.11113338 0.096531   0.09843456 0.10487163\n",
            " 0.10299311 0.08966813 0.07586725 0.0627176  0.06492173 0.07160927\n",
            " 0.05815905 0.06191609 0.07271133 0.07140889 0.0787226  0.08721353\n",
            " 0.08721353 0.07664371 0.08112711 0.07484033 0.0803757  0.08696306\n",
            " 0.09036944 0.09896055 0.10068879 0.0952536  0.09773325 0.09680651\n",
            " 0.10427051 0.10852849 0.10076393 0.11060739 0.11571697 0.12150282\n",
            " 0.1183469  0.11549155 0.11211021 0.12510958 0.12651221 0.13943644\n",
            " 0.13693175 0.1331747  0.14850344 0.14770194 0.14654978 0.14534753\n",
            " 0.12885274 0.13091663 0.13200676 0.13235106 0.13219143 0.13171662\n",
            " 0.13105479 0.13028671 0.12946115 0.12860718 0.12774231 0.12687738\n",
            " 0.12601897 0.12517086 0.12433483 0.12351108 0.1226987  0.12189584\n",
            " 0.12110028 0.12030941 0.11952083 0.11873216 0.11794159 0.11714755\n",
            " 0.11634897 0.11554533 0.11473645 0.11392256]\n",
            "28 day output [[0.11310419]]\n",
            "29 day input [0.12455855 0.14226675 0.12726362 0.12804008 0.13184721 0.14822793\n",
            " 0.12505949 0.12633688 0.11326237 0.11939887 0.09933626 0.08946775\n",
            " 0.10086412 0.09693175 0.10619912 0.08510958 0.07641828 0.07701941\n",
            " 0.09084534 0.08395742 0.08435817 0.09252348 0.107201   0.10519724\n",
            " 0.10487163 0.11113338 0.096531   0.09843456 0.10487163 0.10299311\n",
            " 0.08966813 0.07586725 0.0627176  0.06492173 0.07160927 0.05815905\n",
            " 0.06191609 0.07271133 0.07140889 0.0787226  0.08721353 0.08721353\n",
            " 0.07664371 0.08112711 0.07484033 0.0803757  0.08696306 0.09036944\n",
            " 0.09896055 0.10068879 0.0952536  0.09773325 0.09680651 0.10427051\n",
            " 0.10852849 0.10076393 0.11060739 0.11571697 0.12150282 0.1183469\n",
            " 0.11549155 0.11211021 0.12510958 0.12651221 0.13943644 0.13693175\n",
            " 0.1331747  0.14850344 0.14770194 0.14654978 0.14534753 0.12885274\n",
            " 0.13091663 0.13200676 0.13235106 0.13219143 0.13171662 0.13105479\n",
            " 0.13028671 0.12946115 0.12860718 0.12774231 0.12687738 0.12601897\n",
            " 0.12517086 0.12433483 0.12351108 0.1226987  0.12189584 0.12110028\n",
            " 0.12030941 0.11952083 0.11873216 0.11794159 0.11714755 0.11634897\n",
            " 0.11554533 0.11473645 0.11392256 0.11310419]\n",
            "29 day output [[0.11228216]]\n",
            "[[0.1288527399301529], [0.13091662526130676], [0.13200676441192627], [0.13235105574131012], [0.13219143450260162], [0.13171662390232086], [0.13105478882789612], [0.13028670847415924], [0.1294611543416977], [0.12860718369483948], [0.12774230539798737], [0.12687738239765167], [0.1260189712047577], [0.12517085671424866], [0.12433482706546783], [0.12351108342409134], [0.12269870191812515], [0.12189584225416183], [0.1211002841591835], [0.12030941247940063], [0.11952082812786102], [0.11873216181993484], [0.11794158816337585], [0.1171475499868393], [0.11634897440671921], [0.11554533243179321], [0.11473644524812698], [0.11392255872488022], [0.1131041869521141], [0.1122821643948555]]\n"
          ]
        }
      ]
    },
    {
      "cell_type": "code",
      "source": [
        "day_new=np.arange(1,101)\n",
        "day_pred=np.arange(101,131)"
      ],
      "metadata": {
        "id": "j-vnM9eebnyR"
      },
      "execution_count": 95,
      "outputs": []
    },
    {
      "cell_type": "code",
      "source": [
        "import matplotlib.pyplot as plt\n"
      ],
      "metadata": {
        "id": "1BecQ_6XtEOI"
      },
      "execution_count": 96,
      "outputs": []
    },
    {
      "cell_type": "code",
      "source": [
        "len(df1)\n"
      ],
      "metadata": {
        "colab": {
          "base_uri": "https://localhost:8080/"
        },
        "id": "yw3-CKXotIYt",
        "outputId": "663e5e60-5789-429a-9fa6-099e8399a810"
      },
      "execution_count": 97,
      "outputs": [
        {
          "output_type": "execute_result",
          "data": {
            "text/plain": [
              "1257"
            ]
          },
          "metadata": {},
          "execution_count": 97
        }
      ]
    },
    {
      "cell_type": "code",
      "source": [
        "plt.plot(day_new,scaler.inverse_transform(df1[1157:]))\n",
        "plt.plot(day_pred,scaler.inverse_transform(lst_output))"
      ],
      "metadata": {
        "colab": {
          "base_uri": "https://localhost:8080/",
          "height": 282
        },
        "id": "Yvt3nyyftJV9",
        "outputId": "edd20e2a-f6aa-4f2b-f930-88f0dc869349"
      },
      "execution_count": 99,
      "outputs": [
        {
          "output_type": "execute_result",
          "data": {
            "text/plain": [
              "[<matplotlib.lines.Line2D at 0x7f7db928d050>]"
            ]
          },
          "metadata": {},
          "execution_count": 99
        },
        {
          "output_type": "display_data",
          "data": {
            "text/plain": [
              "<Figure size 432x288 with 1 Axes>"
            ],
            "image/png": "[encoded data removed]"
          },
          "metadata": {
            "needs_background": "light"
          }
        }
      ]
    },
    {
      "cell_type": "code",
      "source": [
        "df3=df1.tolist()\n",
        "df3.extend(lst_output)\n",
        "plt.plot(df3[1200:])"
      ],
      "metadata": {
        "colab": {
          "base_uri": "https://localhost:8080/",
          "height": 282
        },
        "id": "53A3CUUftRBt",
        "outputId": "4a613a7d-9691-4b86-b2a1-b0c75095b60d"
      },
      "execution_count": 100,
      "outputs": [
        {
          "output_type": "execute_result",
          "data": {
            "text/plain": [
              "[<matplotlib.lines.Line2D at 0x7f7db91e0bd0>]"
            ]
          },
          "metadata": {},
          "execution_count": 100
        },
        {
          "output_type": "display_data",
          "data": {
            "text/plain": [
              "<Figure size 432x288 with 1 Axes>"
            ],
            "image/png": "[encoded data removed]"
          },
          "metadata": {
            "needs_background": "light"
          }
        }
      ]
    },
    {
      "cell_type": "code",
      "source": [
        "df3=scaler.inverse_transform(df3).tolist()"
      ],
      "metadata": {
        "id": "UKAGwClftnwu"
      },
      "execution_count": 101,
      "outputs": []
    },
    {
      "cell_type": "code",
      "source": [
        "plt.plot(df3)\n"
      ],
      "metadata": {
        "colab": {
          "base_uri": "https://localhost:8080/",
          "height": 282
        },
        "id": "KGpZm6jAtrhl",
        "outputId": "956f8286-dce2-43be-cd64-1deb6487a6f6"
      },
      "execution_count": 102,
      "outputs": [
        {
          "output_type": "execute_result",
          "data": {
            "text/plain": [
              "[<matplotlib.lines.Line2D at 0x7f7db90bbe10>]"
            ]
          },
          "metadata": {},
          "execution_count": 102
        },
        {
          "output_type": "display_data",
          "data": {
            "text/plain": [
              "<Figure size 432x288 with 1 Axes>"
            ],
            "image/png": "[encoded data removed]"
          },
          "metadata": {
            "needs_background": "light"
          }
        }
      ]
    },
    {
      "cell_type": "code",
      "source": [
        ""
      ],
      "metadata": {
        "id": "oJp5UfeRttRt"
      },
      "execution_count": null,
      "outputs": []
    }
  ]
}